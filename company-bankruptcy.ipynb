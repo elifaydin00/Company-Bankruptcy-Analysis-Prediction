{
  "nbformat": 4,
  "nbformat_minor": 0,
  "metadata": {
    "colab": {
      "provenance": [],
      "toc_visible": true
    },
    "kernelspec": {
      "name": "python3",
      "display_name": "Python 3"
    },
    "language_info": {
      "name": "python"
    }
  },
  "cells": [
    {
      "cell_type": "markdown",
      "source": [
        "#Company Bankruptcy Prediction"
      ],
      "metadata": {
        "id": "s-LJqcvYGdwu"
      }
    },
    {
      "cell_type": "markdown",
      "source": [
        "Elif Aydın\n",
        "230954447\n"
      ],
      "metadata": {
        "id": "vfs4mB6TtVr5"
      }
    },
    {
      "cell_type": "markdown",
      "source": [
        "##Importing Libraries"
      ],
      "metadata": {
        "id": "bNjGl5xeG2oT"
      }
    },
    {
      "cell_type": "code",
      "execution_count": null,
      "metadata": {
        "id": "b2-YBj35j6kQ"
      },
      "outputs": [],
      "source": [
        "import pandas as pd\n",
        "import numpy as np\n",
        "import seaborn as sns\n",
        "from matplotlib import pyplot as plt\n",
        "import warnings\n",
        "warnings.simplefilter('ignore', category=UserWarning) # suppresses warning\n",
        "# command below ensures matplotlib output can be included in Notebook\n",
        "%matplotlib inline\n",
        "\n",
        "from sklearn.preprocessing import StandardScaler\n",
        "from sklearn.model_selection import train_test_split, cross_val_score, StratifiedKFold, cross_validate\n",
        "from sklearn.feature_selection import RFE\n",
        "from sklearn.linear_model import LogisticRegression\n",
        "from sklearn.tree import DecisionTreeClassifier\n",
        "from sklearn.metrics import classification_report, confusion_matrix, make_scorer, accuracy_score, precision_score, recall_score, f1_score\n",
        "from sklearn.metrics import roc_curve, auc\n",
        "from imblearn.over_sampling import SMOTE\n",
        "from imblearn.pipeline import make_pipeline\n",
        "from imblearn.pipeline import Pipeline"
      ]
    },
    {
      "cell_type": "markdown",
      "source": [
        "##Loading Data"
      ],
      "metadata": {
        "id": "8wh0v8vIGv6v"
      }
    },
    {
      "cell_type": "code",
      "source": [
        "from google.colab import drive\n",
        "drive.mount('/content/drive')"
      ],
      "metadata": {
        "colab": {
          "base_uri": "https://localhost:8080/"
        },
        "id": "VlZyz5dNmzYf",
        "outputId": "e4741673-22bd-466d-c104-2df203da4a44"
      },
      "execution_count": null,
      "outputs": [
        {
          "output_type": "stream",
          "name": "stdout",
          "text": [
            "Mounted at /content/drive\n"
          ]
        }
      ]
    },
    {
      "cell_type": "code",
      "source": [
        "path = \"/content/drive/MyDrive/QMUL/QMUL-SEM2/Data Analytics/CW1/data.csv\""
      ],
      "metadata": {
        "id": "q2UNWhTctxE8"
      },
      "execution_count": null,
      "outputs": []
    },
    {
      "cell_type": "code",
      "source": [
        "dataset = pd.read_csv(path, encoding='utf-8')"
      ],
      "metadata": {
        "id": "E4cm2a2vmFIC"
      },
      "execution_count": null,
      "outputs": []
    },
    {
      "cell_type": "code",
      "source": [
        "dataset.head()"
      ],
      "metadata": {
        "colab": {
          "base_uri": "https://localhost:8080/"
        },
        "id": "b4p0q1TEvdL4",
        "outputId": "b013d64d-52c1-4dc7-84a0-17b6027f6bf2"
      },
      "execution_count": null,
      "outputs": [
        {
          "output_type": "execute_result",
          "data": {
            "text/plain": [
              "   Bankrupt?   ROA(C) before interest and depreciation before interest  \\\n",
              "0          1                                           0.370594          \n",
              "1          1                                           0.464291          \n",
              "2          1                                           0.426071          \n",
              "3          1                                           0.399844          \n",
              "4          1                                           0.465022          \n",
              "\n",
              "    ROA(A) before interest and % after tax  \\\n",
              "0                                 0.424389   \n",
              "1                                 0.538214   \n",
              "2                                 0.499019   \n",
              "3                                 0.451265   \n",
              "4                                 0.538432   \n",
              "\n",
              "    ROA(B) before interest and depreciation after tax  \\\n",
              "0                                           0.405750    \n",
              "1                                           0.516730    \n",
              "2                                           0.472295    \n",
              "3                                           0.457733    \n",
              "4                                           0.522298    \n",
              "\n",
              "    Operating Gross Margin   Realized Sales Gross Margin  \\\n",
              "0                 0.601457                      0.601457   \n",
              "1                 0.610235                      0.610235   \n",
              "2                 0.601450                      0.601364   \n",
              "3                 0.583541                      0.583541   \n",
              "4                 0.598783                      0.598783   \n",
              "\n",
              "    Operating Profit Rate   Pre-tax net Interest Rate  \\\n",
              "0                0.998969                    0.796887   \n",
              "1                0.998946                    0.797380   \n",
              "2                0.998857                    0.796403   \n",
              "3                0.998700                    0.796967   \n",
              "4                0.998973                    0.797366   \n",
              "\n",
              "    After-tax net Interest Rate   Non-industry income and expenditure/revenue  \\\n",
              "0                      0.808809                                      0.302646   \n",
              "1                      0.809301                                      0.303556   \n",
              "2                      0.808388                                      0.302035   \n",
              "3                      0.808966                                      0.303350   \n",
              "4                      0.809304                                      0.303475   \n",
              "\n",
              "   ...   Net Income to Total Assets   Total assets to GNP price  \\\n",
              "0  ...                     0.716845                    0.009219   \n",
              "1  ...                     0.795297                    0.008323   \n",
              "2  ...                     0.774670                    0.040003   \n",
              "3  ...                     0.739555                    0.003252   \n",
              "4  ...                     0.795016                    0.003878   \n",
              "\n",
              "    No-credit Interval   Gross Profit to Sales  \\\n",
              "0             0.622879                0.601453   \n",
              "1             0.623652                0.610237   \n",
              "2             0.623841                0.601449   \n",
              "3             0.622929                0.583538   \n",
              "4             0.623521                0.598782   \n",
              "\n",
              "    Net Income to Stockholder's Equity   Liability to Equity  \\\n",
              "0                             0.827890              0.290202   \n",
              "1                             0.839969              0.283846   \n",
              "2                             0.836774              0.290189   \n",
              "3                             0.834697              0.281721   \n",
              "4                             0.839973              0.278514   \n",
              "\n",
              "    Degree of Financial Leverage (DFL)  \\\n",
              "0                             0.026601   \n",
              "1                             0.264577   \n",
              "2                             0.026555   \n",
              "3                             0.026697   \n",
              "4                             0.024752   \n",
              "\n",
              "    Interest Coverage Ratio (Interest expense to EBIT)   Net Income Flag  \\\n",
              "0                                           0.564050                   1   \n",
              "1                                           0.570175                   1   \n",
              "2                                           0.563706                   1   \n",
              "3                                           0.564663                   1   \n",
              "4                                           0.575617                   1   \n",
              "\n",
              "    Equity to Liability  \n",
              "0              0.016469  \n",
              "1              0.020794  \n",
              "2              0.016474  \n",
              "3              0.023982  \n",
              "4              0.035490  \n",
              "\n",
              "[5 rows x 96 columns]"
            ],
            "text/html": [
              "\n",
              "  <div id=\"df-49fea7f1-7a99-47ab-b9cc-34aae79c26a4\" class=\"colab-df-container\">\n",
              "    <div>\n",
              "<style scoped>\n",
              "    .dataframe tbody tr th:only-of-type {\n",
              "        vertical-align: middle;\n",
              "    }\n",
              "\n",
              "    .dataframe tbody tr th {\n",
              "        vertical-align: top;\n",
              "    }\n",
              "\n",
              "    .dataframe thead th {\n",
              "        text-align: right;\n",
              "    }\n",
              "</style>\n",
              "<table border=\"1\" class=\"dataframe\">\n",
              "  <thead>\n",
              "    <tr style=\"text-align: right;\">\n",
              "      <th></th>\n",
              "      <th>Bankrupt?</th>\n",
              "      <th>ROA(C) before interest and depreciation before interest</th>\n",
              "      <th>ROA(A) before interest and % after tax</th>\n",
              "      <th>ROA(B) before interest and depreciation after tax</th>\n",
              "      <th>Operating Gross Margin</th>\n",
              "      <th>Realized Sales Gross Margin</th>\n",
              "      <th>Operating Profit Rate</th>\n",
              "      <th>Pre-tax net Interest Rate</th>\n",
              "      <th>After-tax net Interest Rate</th>\n",
              "      <th>Non-industry income and expenditure/revenue</th>\n",
              "      <th>...</th>\n",
              "      <th>Net Income to Total Assets</th>\n",
              "      <th>Total assets to GNP price</th>\n",
              "      <th>No-credit Interval</th>\n",
              "      <th>Gross Profit to Sales</th>\n",
              "      <th>Net Income to Stockholder's Equity</th>\n",
              "      <th>Liability to Equity</th>\n",
              "      <th>Degree of Financial Leverage (DFL)</th>\n",
              "      <th>Interest Coverage Ratio (Interest expense to EBIT)</th>\n",
              "      <th>Net Income Flag</th>\n",
              "      <th>Equity to Liability</th>\n",
              "    </tr>\n",
              "  </thead>\n",
              "  <tbody>\n",
              "    <tr>\n",
              "      <th>0</th>\n",
              "      <td>1</td>\n",
              "      <td>0.370594</td>\n",
              "      <td>0.424389</td>\n",
              "      <td>0.405750</td>\n",
              "      <td>0.601457</td>\n",
              "      <td>0.601457</td>\n",
              "      <td>0.998969</td>\n",
              "      <td>0.796887</td>\n",
              "      <td>0.808809</td>\n",
              "      <td>0.302646</td>\n",
              "      <td>...</td>\n",
              "      <td>0.716845</td>\n",
              "      <td>0.009219</td>\n",
              "      <td>0.622879</td>\n",
              "      <td>0.601453</td>\n",
              "      <td>0.827890</td>\n",
              "      <td>0.290202</td>\n",
              "      <td>0.026601</td>\n",
              "      <td>0.564050</td>\n",
              "      <td>1</td>\n",
              "      <td>0.016469</td>\n",
              "    </tr>\n",
              "    <tr>\n",
              "      <th>1</th>\n",
              "      <td>1</td>\n",
              "      <td>0.464291</td>\n",
              "      <td>0.538214</td>\n",
              "      <td>0.516730</td>\n",
              "      <td>0.610235</td>\n",
              "      <td>0.610235</td>\n",
              "      <td>0.998946</td>\n",
              "      <td>0.797380</td>\n",
              "      <td>0.809301</td>\n",
              "      <td>0.303556</td>\n",
              "      <td>...</td>\n",
              "      <td>0.795297</td>\n",
              "      <td>0.008323</td>\n",
              "      <td>0.623652</td>\n",
              "      <td>0.610237</td>\n",
              "      <td>0.839969</td>\n",
              "      <td>0.283846</td>\n",
              "      <td>0.264577</td>\n",
              "      <td>0.570175</td>\n",
              "      <td>1</td>\n",
              "      <td>0.020794</td>\n",
              "    </tr>\n",
              "    <tr>\n",
              "      <th>2</th>\n",
              "      <td>1</td>\n",
              "      <td>0.426071</td>\n",
              "      <td>0.499019</td>\n",
              "      <td>0.472295</td>\n",
              "      <td>0.601450</td>\n",
              "      <td>0.601364</td>\n",
              "      <td>0.998857</td>\n",
              "      <td>0.796403</td>\n",
              "      <td>0.808388</td>\n",
              "      <td>0.302035</td>\n",
              "      <td>...</td>\n",
              "      <td>0.774670</td>\n",
              "      <td>0.040003</td>\n",
              "      <td>0.623841</td>\n",
              "      <td>0.601449</td>\n",
              "      <td>0.836774</td>\n",
              "      <td>0.290189</td>\n",
              "      <td>0.026555</td>\n",
              "      <td>0.563706</td>\n",
              "      <td>1</td>\n",
              "      <td>0.016474</td>\n",
              "    </tr>\n",
              "    <tr>\n",
              "      <th>3</th>\n",
              "      <td>1</td>\n",
              "      <td>0.399844</td>\n",
              "      <td>0.451265</td>\n",
              "      <td>0.457733</td>\n",
              "      <td>0.583541</td>\n",
              "      <td>0.583541</td>\n",
              "      <td>0.998700</td>\n",
              "      <td>0.796967</td>\n",
              "      <td>0.808966</td>\n",
              "      <td>0.303350</td>\n",
              "      <td>...</td>\n",
              "      <td>0.739555</td>\n",
              "      <td>0.003252</td>\n",
              "      <td>0.622929</td>\n",
              "      <td>0.583538</td>\n",
              "      <td>0.834697</td>\n",
              "      <td>0.281721</td>\n",
              "      <td>0.026697</td>\n",
              "      <td>0.564663</td>\n",
              "      <td>1</td>\n",
              "      <td>0.023982</td>\n",
              "    </tr>\n",
              "    <tr>\n",
              "      <th>4</th>\n",
              "      <td>1</td>\n",
              "      <td>0.465022</td>\n",
              "      <td>0.538432</td>\n",
              "      <td>0.522298</td>\n",
              "      <td>0.598783</td>\n",
              "      <td>0.598783</td>\n",
              "      <td>0.998973</td>\n",
              "      <td>0.797366</td>\n",
              "      <td>0.809304</td>\n",
              "      <td>0.303475</td>\n",
              "      <td>...</td>\n",
              "      <td>0.795016</td>\n",
              "      <td>0.003878</td>\n",
              "      <td>0.623521</td>\n",
              "      <td>0.598782</td>\n",
              "      <td>0.839973</td>\n",
              "      <td>0.278514</td>\n",
              "      <td>0.024752</td>\n",
              "      <td>0.575617</td>\n",
              "      <td>1</td>\n",
              "      <td>0.035490</td>\n",
              "    </tr>\n",
              "  </tbody>\n",
              "</table>\n",
              "<p>5 rows × 96 columns</p>\n",
              "</div>\n",
              "    <div class=\"colab-df-buttons\">\n",
              "\n",
              "  <div class=\"colab-df-container\">\n",
              "    <button class=\"colab-df-convert\" onclick=\"convertToInteractive('df-49fea7f1-7a99-47ab-b9cc-34aae79c26a4')\"\n",
              "            title=\"Convert this dataframe to an interactive table.\"\n",
              "            style=\"display:none;\">\n",
              "\n",
              "  <svg xmlns=\"http://www.w3.org/2000/svg\" height=\"24px\" viewBox=\"0 -960 960 960\">\n",
              "    <path d=\"M120-120v-720h720v720H120Zm60-500h600v-160H180v160Zm220 220h160v-160H400v160Zm0 220h160v-160H400v160ZM180-400h160v-160H180v160Zm440 0h160v-160H620v160ZM180-180h160v-160H180v160Zm440 0h160v-160H620v160Z\"/>\n",
              "  </svg>\n",
              "    </button>\n",
              "\n",
              "  <style>\n",
              "    .colab-df-container {\n",
              "      display:flex;\n",
              "      gap: 12px;\n",
              "    }\n",
              "\n",
              "    .colab-df-convert {\n",
              "      background-color: #E8F0FE;\n",
              "      border: none;\n",
              "      border-radius: 50%;\n",
              "      cursor: pointer;\n",
              "      display: none;\n",
              "      fill: #1967D2;\n",
              "      height: 32px;\n",
              "      padding: 0 0 0 0;\n",
              "      width: 32px;\n",
              "    }\n",
              "\n",
              "    .colab-df-convert:hover {\n",
              "      background-color: #E2EBFA;\n",
              "      box-shadow: 0px 1px 2px rgba(60, 64, 67, 0.3), 0px 1px 3px 1px rgba(60, 64, 67, 0.15);\n",
              "      fill: #174EA6;\n",
              "    }\n",
              "\n",
              "    .colab-df-buttons div {\n",
              "      margin-bottom: 4px;\n",
              "    }\n",
              "\n",
              "    [theme=dark] .colab-df-convert {\n",
              "      background-color: #3B4455;\n",
              "      fill: #D2E3FC;\n",
              "    }\n",
              "\n",
              "    [theme=dark] .colab-df-convert:hover {\n",
              "      background-color: #434B5C;\n",
              "      box-shadow: 0px 1px 3px 1px rgba(0, 0, 0, 0.15);\n",
              "      filter: drop-shadow(0px 1px 2px rgba(0, 0, 0, 0.3));\n",
              "      fill: #FFFFFF;\n",
              "    }\n",
              "  </style>\n",
              "\n",
              "    <script>\n",
              "      const buttonEl =\n",
              "        document.querySelector('#df-49fea7f1-7a99-47ab-b9cc-34aae79c26a4 button.colab-df-convert');\n",
              "      buttonEl.style.display =\n",
              "        google.colab.kernel.accessAllowed ? 'block' : 'none';\n",
              "\n",
              "      async function convertToInteractive(key) {\n",
              "        const element = document.querySelector('#df-49fea7f1-7a99-47ab-b9cc-34aae79c26a4');\n",
              "        const dataTable =\n",
              "          await google.colab.kernel.invokeFunction('convertToInteractive',\n",
              "                                                    [key], {});\n",
              "        if (!dataTable) return;\n",
              "\n",
              "        const docLinkHtml = 'Like what you see? Visit the ' +\n",
              "          '<a target=\"_blank\" href=https://colab.research.google.com/notebooks/data_table.ipynb>data table notebook</a>'\n",
              "          + ' to learn more about interactive tables.';\n",
              "        element.innerHTML = '';\n",
              "        dataTable['output_type'] = 'display_data';\n",
              "        await google.colab.output.renderOutput(dataTable, element);\n",
              "        const docLink = document.createElement('div');\n",
              "        docLink.innerHTML = docLinkHtml;\n",
              "        element.appendChild(docLink);\n",
              "      }\n",
              "    </script>\n",
              "  </div>\n",
              "\n",
              "\n",
              "<div id=\"df-ccc0ddf0-ec6f-4271-8ef3-bf98e82c429f\">\n",
              "  <button class=\"colab-df-quickchart\" onclick=\"quickchart('df-ccc0ddf0-ec6f-4271-8ef3-bf98e82c429f')\"\n",
              "            title=\"Suggest charts\"\n",
              "            style=\"display:none;\">\n",
              "\n",
              "<svg xmlns=\"http://www.w3.org/2000/svg\" height=\"24px\"viewBox=\"0 0 24 24\"\n",
              "     width=\"24px\">\n",
              "    <g>\n",
              "        <path d=\"M19 3H5c-1.1 0-2 .9-2 2v14c0 1.1.9 2 2 2h14c1.1 0 2-.9 2-2V5c0-1.1-.9-2-2-2zM9 17H7v-7h2v7zm4 0h-2V7h2v10zm4 0h-2v-4h2v4z\"/>\n",
              "    </g>\n",
              "</svg>\n",
              "  </button>\n",
              "\n",
              "<style>\n",
              "  .colab-df-quickchart {\n",
              "      --bg-color: #E8F0FE;\n",
              "      --fill-color: #1967D2;\n",
              "      --hover-bg-color: #E2EBFA;\n",
              "      --hover-fill-color: #174EA6;\n",
              "      --disabled-fill-color: #AAA;\n",
              "      --disabled-bg-color: #DDD;\n",
              "  }\n",
              "\n",
              "  [theme=dark] .colab-df-quickchart {\n",
              "      --bg-color: #3B4455;\n",
              "      --fill-color: #D2E3FC;\n",
              "      --hover-bg-color: #434B5C;\n",
              "      --hover-fill-color: #FFFFFF;\n",
              "      --disabled-bg-color: #3B4455;\n",
              "      --disabled-fill-color: #666;\n",
              "  }\n",
              "\n",
              "  .colab-df-quickchart {\n",
              "    background-color: var(--bg-color);\n",
              "    border: none;\n",
              "    border-radius: 50%;\n",
              "    cursor: pointer;\n",
              "    display: none;\n",
              "    fill: var(--fill-color);\n",
              "    height: 32px;\n",
              "    padding: 0;\n",
              "    width: 32px;\n",
              "  }\n",
              "\n",
              "  .colab-df-quickchart:hover {\n",
              "    background-color: var(--hover-bg-color);\n",
              "    box-shadow: 0 1px 2px rgba(60, 64, 67, 0.3), 0 1px 3px 1px rgba(60, 64, 67, 0.15);\n",
              "    fill: var(--button-hover-fill-color);\n",
              "  }\n",
              "\n",
              "  .colab-df-quickchart-complete:disabled,\n",
              "  .colab-df-quickchart-complete:disabled:hover {\n",
              "    background-color: var(--disabled-bg-color);\n",
              "    fill: var(--disabled-fill-color);\n",
              "    box-shadow: none;\n",
              "  }\n",
              "\n",
              "  .colab-df-spinner {\n",
              "    border: 2px solid var(--fill-color);\n",
              "    border-color: transparent;\n",
              "    border-bottom-color: var(--fill-color);\n",
              "    animation:\n",
              "      spin 1s steps(1) infinite;\n",
              "  }\n",
              "\n",
              "  @keyframes spin {\n",
              "    0% {\n",
              "      border-color: transparent;\n",
              "      border-bottom-color: var(--fill-color);\n",
              "      border-left-color: var(--fill-color);\n",
              "    }\n",
              "    20% {\n",
              "      border-color: transparent;\n",
              "      border-left-color: var(--fill-color);\n",
              "      border-top-color: var(--fill-color);\n",
              "    }\n",
              "    30% {\n",
              "      border-color: transparent;\n",
              "      border-left-color: var(--fill-color);\n",
              "      border-top-color: var(--fill-color);\n",
              "      border-right-color: var(--fill-color);\n",
              "    }\n",
              "    40% {\n",
              "      border-color: transparent;\n",
              "      border-right-color: var(--fill-color);\n",
              "      border-top-color: var(--fill-color);\n",
              "    }\n",
              "    60% {\n",
              "      border-color: transparent;\n",
              "      border-right-color: var(--fill-color);\n",
              "    }\n",
              "    80% {\n",
              "      border-color: transparent;\n",
              "      border-right-color: var(--fill-color);\n",
              "      border-bottom-color: var(--fill-color);\n",
              "    }\n",
              "    90% {\n",
              "      border-color: transparent;\n",
              "      border-bottom-color: var(--fill-color);\n",
              "    }\n",
              "  }\n",
              "</style>\n",
              "\n",
              "  <script>\n",
              "    async function quickchart(key) {\n",
              "      const quickchartButtonEl =\n",
              "        document.querySelector('#' + key + ' button');\n",
              "      quickchartButtonEl.disabled = true;  // To prevent multiple clicks.\n",
              "      quickchartButtonEl.classList.add('colab-df-spinner');\n",
              "      try {\n",
              "        const charts = await google.colab.kernel.invokeFunction(\n",
              "            'suggestCharts', [key], {});\n",
              "      } catch (error) {\n",
              "        console.error('Error during call to suggestCharts:', error);\n",
              "      }\n",
              "      quickchartButtonEl.classList.remove('colab-df-spinner');\n",
              "      quickchartButtonEl.classList.add('colab-df-quickchart-complete');\n",
              "    }\n",
              "    (() => {\n",
              "      let quickchartButtonEl =\n",
              "        document.querySelector('#df-ccc0ddf0-ec6f-4271-8ef3-bf98e82c429f button');\n",
              "      quickchartButtonEl.style.display =\n",
              "        google.colab.kernel.accessAllowed ? 'block' : 'none';\n",
              "    })();\n",
              "  </script>\n",
              "</div>\n",
              "    </div>\n",
              "  </div>\n"
            ],
            "application/vnd.google.colaboratory.intrinsic+json": {
              "type": "dataframe",
              "variable_name": "dataset"
            }
          },
          "metadata": {},
          "execution_count": 5
        }
      ]
    },
    {
      "cell_type": "markdown",
      "source": [
        "##Exploring the Data Frame"
      ],
      "metadata": {
        "id": "dienTjoLG71N"
      }
    },
    {
      "cell_type": "markdown",
      "source": [
        "###Type of Columns"
      ],
      "metadata": {
        "id": "w1Ts9-v-IlC8"
      }
    },
    {
      "cell_type": "code",
      "source": [
        "dataset.info()"
      ],
      "metadata": {
        "colab": {
          "base_uri": "https://localhost:8080/"
        },
        "id": "rpNr6EgEv3wl",
        "outputId": "da7825f2-9f7c-4e4b-8e4a-69f08ba29876"
      },
      "execution_count": null,
      "outputs": [
        {
          "output_type": "stream",
          "name": "stdout",
          "text": [
            "<class 'pandas.core.frame.DataFrame'>\n",
            "RangeIndex: 6819 entries, 0 to 6818\n",
            "Data columns (total 96 columns):\n",
            " #   Column                                                    Non-Null Count  Dtype  \n",
            "---  ------                                                    --------------  -----  \n",
            " 0   Bankrupt?                                                 6819 non-null   int64  \n",
            " 1    ROA(C) before interest and depreciation before interest  6819 non-null   float64\n",
            " 2    ROA(A) before interest and % after tax                   6819 non-null   float64\n",
            " 3    ROA(B) before interest and depreciation after tax        6819 non-null   float64\n",
            " 4    Operating Gross Margin                                   6819 non-null   float64\n",
            " 5    Realized Sales Gross Margin                              6819 non-null   float64\n",
            " 6    Operating Profit Rate                                    6819 non-null   float64\n",
            " 7    Pre-tax net Interest Rate                                6819 non-null   float64\n",
            " 8    After-tax net Interest Rate                              6819 non-null   float64\n",
            " 9    Non-industry income and expenditure/revenue              6819 non-null   float64\n",
            " 10   Continuous interest rate (after tax)                     6819 non-null   float64\n",
            " 11   Operating Expense Rate                                   6819 non-null   float64\n",
            " 12   Research and development expense rate                    6819 non-null   float64\n",
            " 13   Cash flow rate                                           6819 non-null   float64\n",
            " 14   Interest-bearing debt interest rate                      6819 non-null   float64\n",
            " 15   Tax rate (A)                                             6819 non-null   float64\n",
            " 16   Net Value Per Share (B)                                  6819 non-null   float64\n",
            " 17   Net Value Per Share (A)                                  6819 non-null   float64\n",
            " 18   Net Value Per Share (C)                                  6819 non-null   float64\n",
            " 19   Persistent EPS in the Last Four Seasons                  6819 non-null   float64\n",
            " 20   Cash Flow Per Share                                      6819 non-null   float64\n",
            " 21   Revenue Per Share (Yuan ¥)                               6819 non-null   float64\n",
            " 22   Operating Profit Per Share (Yuan ¥)                      6819 non-null   float64\n",
            " 23   Per Share Net profit before tax (Yuan ¥)                 6819 non-null   float64\n",
            " 24   Realized Sales Gross Profit Growth Rate                  6819 non-null   float64\n",
            " 25   Operating Profit Growth Rate                             6819 non-null   float64\n",
            " 26   After-tax Net Profit Growth Rate                         6819 non-null   float64\n",
            " 27   Regular Net Profit Growth Rate                           6819 non-null   float64\n",
            " 28   Continuous Net Profit Growth Rate                        6819 non-null   float64\n",
            " 29   Total Asset Growth Rate                                  6819 non-null   float64\n",
            " 30   Net Value Growth Rate                                    6819 non-null   float64\n",
            " 31   Total Asset Return Growth Rate Ratio                     6819 non-null   float64\n",
            " 32   Cash Reinvestment %                                      6819 non-null   float64\n",
            " 33   Current Ratio                                            6819 non-null   float64\n",
            " 34   Quick Ratio                                              6819 non-null   float64\n",
            " 35   Interest Expense Ratio                                   6819 non-null   float64\n",
            " 36   Total debt/Total net worth                               6819 non-null   float64\n",
            " 37   Debt ratio %                                             6819 non-null   float64\n",
            " 38   Net worth/Assets                                         6819 non-null   float64\n",
            " 39   Long-term fund suitability ratio (A)                     6819 non-null   float64\n",
            " 40   Borrowing dependency                                     6819 non-null   float64\n",
            " 41   Contingent liabilities/Net worth                         6819 non-null   float64\n",
            " 42   Operating profit/Paid-in capital                         6819 non-null   float64\n",
            " 43   Net profit before tax/Paid-in capital                    6819 non-null   float64\n",
            " 44   Inventory and accounts receivable/Net value              6819 non-null   float64\n",
            " 45   Total Asset Turnover                                     6819 non-null   float64\n",
            " 46   Accounts Receivable Turnover                             6819 non-null   float64\n",
            " 47   Average Collection Days                                  6819 non-null   float64\n",
            " 48   Inventory Turnover Rate (times)                          6819 non-null   float64\n",
            " 49   Fixed Assets Turnover Frequency                          6819 non-null   float64\n",
            " 50   Net Worth Turnover Rate (times)                          6819 non-null   float64\n",
            " 51   Revenue per person                                       6819 non-null   float64\n",
            " 52   Operating profit per person                              6819 non-null   float64\n",
            " 53   Allocation rate per person                               6819 non-null   float64\n",
            " 54   Working Capital to Total Assets                          6819 non-null   float64\n",
            " 55   Quick Assets/Total Assets                                6819 non-null   float64\n",
            " 56   Current Assets/Total Assets                              6819 non-null   float64\n",
            " 57   Cash/Total Assets                                        6819 non-null   float64\n",
            " 58   Quick Assets/Current Liability                           6819 non-null   float64\n",
            " 59   Cash/Current Liability                                   6819 non-null   float64\n",
            " 60   Current Liability to Assets                              6819 non-null   float64\n",
            " 61   Operating Funds to Liability                             6819 non-null   float64\n",
            " 62   Inventory/Working Capital                                6819 non-null   float64\n",
            " 63   Inventory/Current Liability                              6819 non-null   float64\n",
            " 64   Current Liabilities/Liability                            6819 non-null   float64\n",
            " 65   Working Capital/Equity                                   6819 non-null   float64\n",
            " 66   Current Liabilities/Equity                               6819 non-null   float64\n",
            " 67   Long-term Liability to Current Assets                    6819 non-null   float64\n",
            " 68   Retained Earnings to Total Assets                        6819 non-null   float64\n",
            " 69   Total income/Total expense                               6819 non-null   float64\n",
            " 70   Total expense/Assets                                     6819 non-null   float64\n",
            " 71   Current Asset Turnover Rate                              6819 non-null   float64\n",
            " 72   Quick Asset Turnover Rate                                6819 non-null   float64\n",
            " 73   Working capitcal Turnover Rate                           6819 non-null   float64\n",
            " 74   Cash Turnover Rate                                       6819 non-null   float64\n",
            " 75   Cash Flow to Sales                                       6819 non-null   float64\n",
            " 76   Fixed Assets to Assets                                   6819 non-null   float64\n",
            " 77   Current Liability to Liability                           6819 non-null   float64\n",
            " 78   Current Liability to Equity                              6819 non-null   float64\n",
            " 79   Equity to Long-term Liability                            6819 non-null   float64\n",
            " 80   Cash Flow to Total Assets                                6819 non-null   float64\n",
            " 81   Cash Flow to Liability                                   6819 non-null   float64\n",
            " 82   CFO to Assets                                            6819 non-null   float64\n",
            " 83   Cash Flow to Equity                                      6819 non-null   float64\n",
            " 84   Current Liability to Current Assets                      6819 non-null   float64\n",
            " 85   Liability-Assets Flag                                    6819 non-null   int64  \n",
            " 86   Net Income to Total Assets                               6819 non-null   float64\n",
            " 87   Total assets to GNP price                                6819 non-null   float64\n",
            " 88   No-credit Interval                                       6819 non-null   float64\n",
            " 89   Gross Profit to Sales                                    6819 non-null   float64\n",
            " 90   Net Income to Stockholder's Equity                       6819 non-null   float64\n",
            " 91   Liability to Equity                                      6819 non-null   float64\n",
            " 92   Degree of Financial Leverage (DFL)                       6819 non-null   float64\n",
            " 93   Interest Coverage Ratio (Interest expense to EBIT)       6819 non-null   float64\n",
            " 94   Net Income Flag                                          6819 non-null   int64  \n",
            " 95   Equity to Liability                                      6819 non-null   float64\n",
            "dtypes: float64(93), int64(3)\n",
            "memory usage: 5.0 MB\n"
          ]
        }
      ]
    },
    {
      "cell_type": "markdown",
      "source": [
        "There are no categorical column. Each column are either float or integer. We might still do normalizing"
      ],
      "metadata": {
        "id": "ZxPAJ1qcv9Yr"
      }
    },
    {
      "cell_type": "markdown",
      "source": [
        "###Checking Missing Variables"
      ],
      "metadata": {
        "id": "oHHtSOj2Is8c"
      }
    },
    {
      "cell_type": "code",
      "source": [
        "dataset.isnull().sum()"
      ],
      "metadata": {
        "colab": {
          "base_uri": "https://localhost:8080/"
        },
        "id": "6lQ-2BP4b7kd",
        "outputId": "4a8d4fff-775d-4f8c-9c8a-0a1a42bb2534"
      },
      "execution_count": null,
      "outputs": [
        {
          "output_type": "execute_result",
          "data": {
            "text/plain": [
              "Bankrupt?                                                   0\n",
              " ROA(C) before interest and depreciation before interest    0\n",
              " ROA(A) before interest and % after tax                     0\n",
              " ROA(B) before interest and depreciation after tax          0\n",
              " Operating Gross Margin                                     0\n",
              "                                                           ..\n",
              " Liability to Equity                                        0\n",
              " Degree of Financial Leverage (DFL)                         0\n",
              " Interest Coverage Ratio (Interest expense to EBIT)         0\n",
              " Net Income Flag                                            0\n",
              " Equity to Liability                                        0\n",
              "Length: 96, dtype: int64"
            ]
          },
          "metadata": {},
          "execution_count": 7
        }
      ]
    },
    {
      "cell_type": "markdown",
      "source": [
        "We do not need to handle missing values since there are no missing values,"
      ],
      "metadata": {
        "id": "T0pJG13pb-iV"
      }
    },
    {
      "cell_type": "markdown",
      "source": [
        "###Checking dimensions of data"
      ],
      "metadata": {
        "id": "uRvKon3YIwP_"
      }
    },
    {
      "cell_type": "code",
      "source": [
        "dataset.shape"
      ],
      "metadata": {
        "colab": {
          "base_uri": "https://localhost:8080/"
        },
        "id": "OV62YRtT1zQJ",
        "outputId": "a7fe7dee-8347-462d-e906-9c47515bde4d"
      },
      "execution_count": null,
      "outputs": [
        {
          "output_type": "execute_result",
          "data": {
            "text/plain": [
              "(6819, 96)"
            ]
          },
          "metadata": {},
          "execution_count": 6
        }
      ]
    },
    {
      "cell_type": "markdown",
      "source": [
        "There are 6819 rows in the dataset, which is good for training. However, there are 96 columns. Too many features can cause overfitting. Therefore we will do feature selection in the next phases"
      ],
      "metadata": {
        "id": "mh1UihJw18yf"
      }
    },
    {
      "cell_type": "markdown",
      "source": [
        "###Statistics of Each Feature"
      ],
      "metadata": {
        "id": "FrYpjcI8I11v"
      }
    },
    {
      "cell_type": "code",
      "source": [
        "dataset.describe()"
      ],
      "metadata": {
        "colab": {
          "base_uri": "https://localhost:8080/"
        },
        "id": "YIKgmJLTcHek",
        "outputId": "8e2abade-ad9b-4061-b3bd-ce3369d1e802"
      },
      "execution_count": null,
      "outputs": [
        {
          "output_type": "execute_result",
          "data": {
            "text/plain": [
              "         Bankrupt?   ROA(C) before interest and depreciation before interest  \\\n",
              "count  6819.000000                                        6819.000000          \n",
              "mean      0.032263                                           0.505180          \n",
              "std       0.176710                                           0.060686          \n",
              "min       0.000000                                           0.000000          \n",
              "25%       0.000000                                           0.476527          \n",
              "50%       0.000000                                           0.502706          \n",
              "75%       0.000000                                           0.535563          \n",
              "max       1.000000                                           1.000000          \n",
              "\n",
              "        ROA(A) before interest and % after tax  \\\n",
              "count                              6819.000000   \n",
              "mean                                  0.558625   \n",
              "std                                   0.065620   \n",
              "min                                   0.000000   \n",
              "25%                                   0.535543   \n",
              "50%                                   0.559802   \n",
              "75%                                   0.589157   \n",
              "max                                   1.000000   \n",
              "\n",
              "        ROA(B) before interest and depreciation after tax  \\\n",
              "count                                        6819.000000    \n",
              "mean                                            0.553589    \n",
              "std                                             0.061595    \n",
              "min                                             0.000000    \n",
              "25%                                             0.527277    \n",
              "50%                                             0.552278    \n",
              "75%                                             0.584105    \n",
              "max                                             1.000000    \n",
              "\n",
              "        Operating Gross Margin   Realized Sales Gross Margin  \\\n",
              "count              6819.000000                   6819.000000   \n",
              "mean                  0.607948                      0.607929   \n",
              "std                   0.016934                      0.016916   \n",
              "min                   0.000000                      0.000000   \n",
              "25%                   0.600445                      0.600434   \n",
              "50%                   0.605997                      0.605976   \n",
              "75%                   0.613914                      0.613842   \n",
              "max                   1.000000                      1.000000   \n",
              "\n",
              "        Operating Profit Rate   Pre-tax net Interest Rate  \\\n",
              "count             6819.000000                 6819.000000   \n",
              "mean                 0.998755                    0.797190   \n",
              "std                  0.013010                    0.012869   \n",
              "min                  0.000000                    0.000000   \n",
              "25%                  0.998969                    0.797386   \n",
              "50%                  0.999022                    0.797464   \n",
              "75%                  0.999095                    0.797579   \n",
              "max                  1.000000                    1.000000   \n",
              "\n",
              "        After-tax net Interest Rate  \\\n",
              "count                   6819.000000   \n",
              "mean                       0.809084   \n",
              "std                        0.013601   \n",
              "min                        0.000000   \n",
              "25%                        0.809312   \n",
              "50%                        0.809375   \n",
              "75%                        0.809469   \n",
              "max                        1.000000   \n",
              "\n",
              "        Non-industry income and expenditure/revenue  ...  \\\n",
              "count                                   6819.000000  ...   \n",
              "mean                                       0.303623  ...   \n",
              "std                                        0.011163  ...   \n",
              "min                                        0.000000  ...   \n",
              "25%                                        0.303466  ...   \n",
              "50%                                        0.303525  ...   \n",
              "75%                                        0.303585  ...   \n",
              "max                                        1.000000  ...   \n",
              "\n",
              "        Net Income to Total Assets   Total assets to GNP price  \\\n",
              "count                  6819.000000                6.819000e+03   \n",
              "mean                      0.807760                1.862942e+07   \n",
              "std                       0.040332                3.764501e+08   \n",
              "min                       0.000000                0.000000e+00   \n",
              "25%                       0.796750                9.036205e-04   \n",
              "50%                       0.810619                2.085213e-03   \n",
              "75%                       0.826455                5.269777e-03   \n",
              "max                       1.000000                9.820000e+09   \n",
              "\n",
              "        No-credit Interval   Gross Profit to Sales  \\\n",
              "count          6819.000000             6819.000000   \n",
              "mean              0.623915                0.607946   \n",
              "std               0.012290                0.016934   \n",
              "min               0.000000                0.000000   \n",
              "25%               0.623636                0.600443   \n",
              "50%               0.623879                0.605998   \n",
              "75%               0.624168                0.613913   \n",
              "max               1.000000                1.000000   \n",
              "\n",
              "        Net Income to Stockholder's Equity   Liability to Equity  \\\n",
              "count                          6819.000000           6819.000000   \n",
              "mean                              0.840402              0.280365   \n",
              "std                               0.014523              0.014463   \n",
              "min                               0.000000              0.000000   \n",
              "25%                               0.840115              0.276944   \n",
              "50%                               0.841179              0.278778   \n",
              "75%                               0.842357              0.281449   \n",
              "max                               1.000000              1.000000   \n",
              "\n",
              "        Degree of Financial Leverage (DFL)  \\\n",
              "count                          6819.000000   \n",
              "mean                              0.027541   \n",
              "std                               0.015668   \n",
              "min                               0.000000   \n",
              "25%                               0.026791   \n",
              "50%                               0.026808   \n",
              "75%                               0.026913   \n",
              "max                               1.000000   \n",
              "\n",
              "        Interest Coverage Ratio (Interest expense to EBIT)   Net Income Flag  \\\n",
              "count                                        6819.000000              6819.0   \n",
              "mean                                            0.565358                 1.0   \n",
              "std                                             0.013214                 0.0   \n",
              "min                                             0.000000                 1.0   \n",
              "25%                                             0.565158                 1.0   \n",
              "50%                                             0.565252                 1.0   \n",
              "75%                                             0.565725                 1.0   \n",
              "max                                             1.000000                 1.0   \n",
              "\n",
              "        Equity to Liability  \n",
              "count           6819.000000  \n",
              "mean               0.047578  \n",
              "std                0.050014  \n",
              "min                0.000000  \n",
              "25%                0.024477  \n",
              "50%                0.033798  \n",
              "75%                0.052838  \n",
              "max                1.000000  \n",
              "\n",
              "[8 rows x 96 columns]"
            ],
            "text/html": [
              "\n",
              "  <div id=\"df-4fc77cc6-e697-461d-94c7-06fbf71a5861\" class=\"colab-df-container\">\n",
              "    <div>\n",
              "<style scoped>\n",
              "    .dataframe tbody tr th:only-of-type {\n",
              "        vertical-align: middle;\n",
              "    }\n",
              "\n",
              "    .dataframe tbody tr th {\n",
              "        vertical-align: top;\n",
              "    }\n",
              "\n",
              "    .dataframe thead th {\n",
              "        text-align: right;\n",
              "    }\n",
              "</style>\n",
              "<table border=\"1\" class=\"dataframe\">\n",
              "  <thead>\n",
              "    <tr style=\"text-align: right;\">\n",
              "      <th></th>\n",
              "      <th>Bankrupt?</th>\n",
              "      <th>ROA(C) before interest and depreciation before interest</th>\n",
              "      <th>ROA(A) before interest and % after tax</th>\n",
              "      <th>ROA(B) before interest and depreciation after tax</th>\n",
              "      <th>Operating Gross Margin</th>\n",
              "      <th>Realized Sales Gross Margin</th>\n",
              "      <th>Operating Profit Rate</th>\n",
              "      <th>Pre-tax net Interest Rate</th>\n",
              "      <th>After-tax net Interest Rate</th>\n",
              "      <th>Non-industry income and expenditure/revenue</th>\n",
              "      <th>...</th>\n",
              "      <th>Net Income to Total Assets</th>\n",
              "      <th>Total assets to GNP price</th>\n",
              "      <th>No-credit Interval</th>\n",
              "      <th>Gross Profit to Sales</th>\n",
              "      <th>Net Income to Stockholder's Equity</th>\n",
              "      <th>Liability to Equity</th>\n",
              "      <th>Degree of Financial Leverage (DFL)</th>\n",
              "      <th>Interest Coverage Ratio (Interest expense to EBIT)</th>\n",
              "      <th>Net Income Flag</th>\n",
              "      <th>Equity to Liability</th>\n",
              "    </tr>\n",
              "  </thead>\n",
              "  <tbody>\n",
              "    <tr>\n",
              "      <th>count</th>\n",
              "      <td>6819.000000</td>\n",
              "      <td>6819.000000</td>\n",
              "      <td>6819.000000</td>\n",
              "      <td>6819.000000</td>\n",
              "      <td>6819.000000</td>\n",
              "      <td>6819.000000</td>\n",
              "      <td>6819.000000</td>\n",
              "      <td>6819.000000</td>\n",
              "      <td>6819.000000</td>\n",
              "      <td>6819.000000</td>\n",
              "      <td>...</td>\n",
              "      <td>6819.000000</td>\n",
              "      <td>6.819000e+03</td>\n",
              "      <td>6819.000000</td>\n",
              "      <td>6819.000000</td>\n",
              "      <td>6819.000000</td>\n",
              "      <td>6819.000000</td>\n",
              "      <td>6819.000000</td>\n",
              "      <td>6819.000000</td>\n",
              "      <td>6819.0</td>\n",
              "      <td>6819.000000</td>\n",
              "    </tr>\n",
              "    <tr>\n",
              "      <th>mean</th>\n",
              "      <td>0.032263</td>\n",
              "      <td>0.505180</td>\n",
              "      <td>0.558625</td>\n",
              "      <td>0.553589</td>\n",
              "      <td>0.607948</td>\n",
              "      <td>0.607929</td>\n",
              "      <td>0.998755</td>\n",
              "      <td>0.797190</td>\n",
              "      <td>0.809084</td>\n",
              "      <td>0.303623</td>\n",
              "      <td>...</td>\n",
              "      <td>0.807760</td>\n",
              "      <td>1.862942e+07</td>\n",
              "      <td>0.623915</td>\n",
              "      <td>0.607946</td>\n",
              "      <td>0.840402</td>\n",
              "      <td>0.280365</td>\n",
              "      <td>0.027541</td>\n",
              "      <td>0.565358</td>\n",
              "      <td>1.0</td>\n",
              "      <td>0.047578</td>\n",
              "    </tr>\n",
              "    <tr>\n",
              "      <th>std</th>\n",
              "      <td>0.176710</td>\n",
              "      <td>0.060686</td>\n",
              "      <td>0.065620</td>\n",
              "      <td>0.061595</td>\n",
              "      <td>0.016934</td>\n",
              "      <td>0.016916</td>\n",
              "      <td>0.013010</td>\n",
              "      <td>0.012869</td>\n",
              "      <td>0.013601</td>\n",
              "      <td>0.011163</td>\n",
              "      <td>...</td>\n",
              "      <td>0.040332</td>\n",
              "      <td>3.764501e+08</td>\n",
              "      <td>0.012290</td>\n",
              "      <td>0.016934</td>\n",
              "      <td>0.014523</td>\n",
              "      <td>0.014463</td>\n",
              "      <td>0.015668</td>\n",
              "      <td>0.013214</td>\n",
              "      <td>0.0</td>\n",
              "      <td>0.050014</td>\n",
              "    </tr>\n",
              "    <tr>\n",
              "      <th>min</th>\n",
              "      <td>0.000000</td>\n",
              "      <td>0.000000</td>\n",
              "      <td>0.000000</td>\n",
              "      <td>0.000000</td>\n",
              "      <td>0.000000</td>\n",
              "      <td>0.000000</td>\n",
              "      <td>0.000000</td>\n",
              "      <td>0.000000</td>\n",
              "      <td>0.000000</td>\n",
              "      <td>0.000000</td>\n",
              "      <td>...</td>\n",
              "      <td>0.000000</td>\n",
              "      <td>0.000000e+00</td>\n",
              "      <td>0.000000</td>\n",
              "      <td>0.000000</td>\n",
              "      <td>0.000000</td>\n",
              "      <td>0.000000</td>\n",
              "      <td>0.000000</td>\n",
              "      <td>0.000000</td>\n",
              "      <td>1.0</td>\n",
              "      <td>0.000000</td>\n",
              "    </tr>\n",
              "    <tr>\n",
              "      <th>25%</th>\n",
              "      <td>0.000000</td>\n",
              "      <td>0.476527</td>\n",
              "      <td>0.535543</td>\n",
              "      <td>0.527277</td>\n",
              "      <td>0.600445</td>\n",
              "      <td>0.600434</td>\n",
              "      <td>0.998969</td>\n",
              "      <td>0.797386</td>\n",
              "      <td>0.809312</td>\n",
              "      <td>0.303466</td>\n",
              "      <td>...</td>\n",
              "      <td>0.796750</td>\n",
              "      <td>9.036205e-04</td>\n",
              "      <td>0.623636</td>\n",
              "      <td>0.600443</td>\n",
              "      <td>0.840115</td>\n",
              "      <td>0.276944</td>\n",
              "      <td>0.026791</td>\n",
              "      <td>0.565158</td>\n",
              "      <td>1.0</td>\n",
              "      <td>0.024477</td>\n",
              "    </tr>\n",
              "    <tr>\n",
              "      <th>50%</th>\n",
              "      <td>0.000000</td>\n",
              "      <td>0.502706</td>\n",
              "      <td>0.559802</td>\n",
              "      <td>0.552278</td>\n",
              "      <td>0.605997</td>\n",
              "      <td>0.605976</td>\n",
              "      <td>0.999022</td>\n",
              "      <td>0.797464</td>\n",
              "      <td>0.809375</td>\n",
              "      <td>0.303525</td>\n",
              "      <td>...</td>\n",
              "      <td>0.810619</td>\n",
              "      <td>2.085213e-03</td>\n",
              "      <td>0.623879</td>\n",
              "      <td>0.605998</td>\n",
              "      <td>0.841179</td>\n",
              "      <td>0.278778</td>\n",
              "      <td>0.026808</td>\n",
              "      <td>0.565252</td>\n",
              "      <td>1.0</td>\n",
              "      <td>0.033798</td>\n",
              "    </tr>\n",
              "    <tr>\n",
              "      <th>75%</th>\n",
              "      <td>0.000000</td>\n",
              "      <td>0.535563</td>\n",
              "      <td>0.589157</td>\n",
              "      <td>0.584105</td>\n",
              "      <td>0.613914</td>\n",
              "      <td>0.613842</td>\n",
              "      <td>0.999095</td>\n",
              "      <td>0.797579</td>\n",
              "      <td>0.809469</td>\n",
              "      <td>0.303585</td>\n",
              "      <td>...</td>\n",
              "      <td>0.826455</td>\n",
              "      <td>5.269777e-03</td>\n",
              "      <td>0.624168</td>\n",
              "      <td>0.613913</td>\n",
              "      <td>0.842357</td>\n",
              "      <td>0.281449</td>\n",
              "      <td>0.026913</td>\n",
              "      <td>0.565725</td>\n",
              "      <td>1.0</td>\n",
              "      <td>0.052838</td>\n",
              "    </tr>\n",
              "    <tr>\n",
              "      <th>max</th>\n",
              "      <td>1.000000</td>\n",
              "      <td>1.000000</td>\n",
              "      <td>1.000000</td>\n",
              "      <td>1.000000</td>\n",
              "      <td>1.000000</td>\n",
              "      <td>1.000000</td>\n",
              "      <td>1.000000</td>\n",
              "      <td>1.000000</td>\n",
              "      <td>1.000000</td>\n",
              "      <td>1.000000</td>\n",
              "      <td>...</td>\n",
              "      <td>1.000000</td>\n",
              "      <td>9.820000e+09</td>\n",
              "      <td>1.000000</td>\n",
              "      <td>1.000000</td>\n",
              "      <td>1.000000</td>\n",
              "      <td>1.000000</td>\n",
              "      <td>1.000000</td>\n",
              "      <td>1.000000</td>\n",
              "      <td>1.0</td>\n",
              "      <td>1.000000</td>\n",
              "    </tr>\n",
              "  </tbody>\n",
              "</table>\n",
              "<p>8 rows × 96 columns</p>\n",
              "</div>\n",
              "    <div class=\"colab-df-buttons\">\n",
              "\n",
              "  <div class=\"colab-df-container\">\n",
              "    <button class=\"colab-df-convert\" onclick=\"convertToInteractive('df-4fc77cc6-e697-461d-94c7-06fbf71a5861')\"\n",
              "            title=\"Convert this dataframe to an interactive table.\"\n",
              "            style=\"display:none;\">\n",
              "\n",
              "  <svg xmlns=\"http://www.w3.org/2000/svg\" height=\"24px\" viewBox=\"0 -960 960 960\">\n",
              "    <path d=\"M120-120v-720h720v720H120Zm60-500h600v-160H180v160Zm220 220h160v-160H400v160Zm0 220h160v-160H400v160ZM180-400h160v-160H180v160Zm440 0h160v-160H620v160ZM180-180h160v-160H180v160Zm440 0h160v-160H620v160Z\"/>\n",
              "  </svg>\n",
              "    </button>\n",
              "\n",
              "  <style>\n",
              "    .colab-df-container {\n",
              "      display:flex;\n",
              "      gap: 12px;\n",
              "    }\n",
              "\n",
              "    .colab-df-convert {\n",
              "      background-color: #E8F0FE;\n",
              "      border: none;\n",
              "      border-radius: 50%;\n",
              "      cursor: pointer;\n",
              "      display: none;\n",
              "      fill: #1967D2;\n",
              "      height: 32px;\n",
              "      padding: 0 0 0 0;\n",
              "      width: 32px;\n",
              "    }\n",
              "\n",
              "    .colab-df-convert:hover {\n",
              "      background-color: #E2EBFA;\n",
              "      box-shadow: 0px 1px 2px rgba(60, 64, 67, 0.3), 0px 1px 3px 1px rgba(60, 64, 67, 0.15);\n",
              "      fill: #174EA6;\n",
              "    }\n",
              "\n",
              "    .colab-df-buttons div {\n",
              "      margin-bottom: 4px;\n",
              "    }\n",
              "\n",
              "    [theme=dark] .colab-df-convert {\n",
              "      background-color: #3B4455;\n",
              "      fill: #D2E3FC;\n",
              "    }\n",
              "\n",
              "    [theme=dark] .colab-df-convert:hover {\n",
              "      background-color: #434B5C;\n",
              "      box-shadow: 0px 1px 3px 1px rgba(0, 0, 0, 0.15);\n",
              "      filter: drop-shadow(0px 1px 2px rgba(0, 0, 0, 0.3));\n",
              "      fill: #FFFFFF;\n",
              "    }\n",
              "  </style>\n",
              "\n",
              "    <script>\n",
              "      const buttonEl =\n",
              "        document.querySelector('#df-4fc77cc6-e697-461d-94c7-06fbf71a5861 button.colab-df-convert');\n",
              "      buttonEl.style.display =\n",
              "        google.colab.kernel.accessAllowed ? 'block' : 'none';\n",
              "\n",
              "      async function convertToInteractive(key) {\n",
              "        const element = document.querySelector('#df-4fc77cc6-e697-461d-94c7-06fbf71a5861');\n",
              "        const dataTable =\n",
              "          await google.colab.kernel.invokeFunction('convertToInteractive',\n",
              "                                                    [key], {});\n",
              "        if (!dataTable) return;\n",
              "\n",
              "        const docLinkHtml = 'Like what you see? Visit the ' +\n",
              "          '<a target=\"_blank\" href=https://colab.research.google.com/notebooks/data_table.ipynb>data table notebook</a>'\n",
              "          + ' to learn more about interactive tables.';\n",
              "        element.innerHTML = '';\n",
              "        dataTable['output_type'] = 'display_data';\n",
              "        await google.colab.output.renderOutput(dataTable, element);\n",
              "        const docLink = document.createElement('div');\n",
              "        docLink.innerHTML = docLinkHtml;\n",
              "        element.appendChild(docLink);\n",
              "      }\n",
              "    </script>\n",
              "  </div>\n",
              "\n",
              "\n",
              "<div id=\"df-c515f64a-8201-4803-bf6c-21de081b02cf\">\n",
              "  <button class=\"colab-df-quickchart\" onclick=\"quickchart('df-c515f64a-8201-4803-bf6c-21de081b02cf')\"\n",
              "            title=\"Suggest charts\"\n",
              "            style=\"display:none;\">\n",
              "\n",
              "<svg xmlns=\"http://www.w3.org/2000/svg\" height=\"24px\"viewBox=\"0 0 24 24\"\n",
              "     width=\"24px\">\n",
              "    <g>\n",
              "        <path d=\"M19 3H5c-1.1 0-2 .9-2 2v14c0 1.1.9 2 2 2h14c1.1 0 2-.9 2-2V5c0-1.1-.9-2-2-2zM9 17H7v-7h2v7zm4 0h-2V7h2v10zm4 0h-2v-4h2v4z\"/>\n",
              "    </g>\n",
              "</svg>\n",
              "  </button>\n",
              "\n",
              "<style>\n",
              "  .colab-df-quickchart {\n",
              "      --bg-color: #E8F0FE;\n",
              "      --fill-color: #1967D2;\n",
              "      --hover-bg-color: #E2EBFA;\n",
              "      --hover-fill-color: #174EA6;\n",
              "      --disabled-fill-color: #AAA;\n",
              "      --disabled-bg-color: #DDD;\n",
              "  }\n",
              "\n",
              "  [theme=dark] .colab-df-quickchart {\n",
              "      --bg-color: #3B4455;\n",
              "      --fill-color: #D2E3FC;\n",
              "      --hover-bg-color: #434B5C;\n",
              "      --hover-fill-color: #FFFFFF;\n",
              "      --disabled-bg-color: #3B4455;\n",
              "      --disabled-fill-color: #666;\n",
              "  }\n",
              "\n",
              "  .colab-df-quickchart {\n",
              "    background-color: var(--bg-color);\n",
              "    border: none;\n",
              "    border-radius: 50%;\n",
              "    cursor: pointer;\n",
              "    display: none;\n",
              "    fill: var(--fill-color);\n",
              "    height: 32px;\n",
              "    padding: 0;\n",
              "    width: 32px;\n",
              "  }\n",
              "\n",
              "  .colab-df-quickchart:hover {\n",
              "    background-color: var(--hover-bg-color);\n",
              "    box-shadow: 0 1px 2px rgba(60, 64, 67, 0.3), 0 1px 3px 1px rgba(60, 64, 67, 0.15);\n",
              "    fill: var(--button-hover-fill-color);\n",
              "  }\n",
              "\n",
              "  .colab-df-quickchart-complete:disabled,\n",
              "  .colab-df-quickchart-complete:disabled:hover {\n",
              "    background-color: var(--disabled-bg-color);\n",
              "    fill: var(--disabled-fill-color);\n",
              "    box-shadow: none;\n",
              "  }\n",
              "\n",
              "  .colab-df-spinner {\n",
              "    border: 2px solid var(--fill-color);\n",
              "    border-color: transparent;\n",
              "    border-bottom-color: var(--fill-color);\n",
              "    animation:\n",
              "      spin 1s steps(1) infinite;\n",
              "  }\n",
              "\n",
              "  @keyframes spin {\n",
              "    0% {\n",
              "      border-color: transparent;\n",
              "      border-bottom-color: var(--fill-color);\n",
              "      border-left-color: var(--fill-color);\n",
              "    }\n",
              "    20% {\n",
              "      border-color: transparent;\n",
              "      border-left-color: var(--fill-color);\n",
              "      border-top-color: var(--fill-color);\n",
              "    }\n",
              "    30% {\n",
              "      border-color: transparent;\n",
              "      border-left-color: var(--fill-color);\n",
              "      border-top-color: var(--fill-color);\n",
              "      border-right-color: var(--fill-color);\n",
              "    }\n",
              "    40% {\n",
              "      border-color: transparent;\n",
              "      border-right-color: var(--fill-color);\n",
              "      border-top-color: var(--fill-color);\n",
              "    }\n",
              "    60% {\n",
              "      border-color: transparent;\n",
              "      border-right-color: var(--fill-color);\n",
              "    }\n",
              "    80% {\n",
              "      border-color: transparent;\n",
              "      border-right-color: var(--fill-color);\n",
              "      border-bottom-color: var(--fill-color);\n",
              "    }\n",
              "    90% {\n",
              "      border-color: transparent;\n",
              "      border-bottom-color: var(--fill-color);\n",
              "    }\n",
              "  }\n",
              "</style>\n",
              "\n",
              "  <script>\n",
              "    async function quickchart(key) {\n",
              "      const quickchartButtonEl =\n",
              "        document.querySelector('#' + key + ' button');\n",
              "      quickchartButtonEl.disabled = true;  // To prevent multiple clicks.\n",
              "      quickchartButtonEl.classList.add('colab-df-spinner');\n",
              "      try {\n",
              "        const charts = await google.colab.kernel.invokeFunction(\n",
              "            'suggestCharts', [key], {});\n",
              "      } catch (error) {\n",
              "        console.error('Error during call to suggestCharts:', error);\n",
              "      }\n",
              "      quickchartButtonEl.classList.remove('colab-df-spinner');\n",
              "      quickchartButtonEl.classList.add('colab-df-quickchart-complete');\n",
              "    }\n",
              "    (() => {\n",
              "      let quickchartButtonEl =\n",
              "        document.querySelector('#df-c515f64a-8201-4803-bf6c-21de081b02cf button');\n",
              "      quickchartButtonEl.style.display =\n",
              "        google.colab.kernel.accessAllowed ? 'block' : 'none';\n",
              "    })();\n",
              "  </script>\n",
              "</div>\n",
              "    </div>\n",
              "  </div>\n"
            ],
            "application/vnd.google.colaboratory.intrinsic+json": {
              "type": "dataframe"
            }
          },
          "metadata": {},
          "execution_count": 7
        }
      ]
    },
    {
      "cell_type": "markdown",
      "source": [
        "All the features are numerical as it was stated before. Also, all the values are between 0 and 1. We will still do standardization technique so that logistic regression model will be robust against outliers"
      ],
      "metadata": {
        "id": "z2lVMSsj2geP"
      }
    },
    {
      "cell_type": "markdown",
      "source": [
        "Here is the tabular description of features that we specified. Some of these features will be used in Logistic Regression model later"
      ],
      "metadata": {
        "id": "NEqBVFR1dyt8"
      }
    },
    {
      "cell_type": "markdown",
      "source": [
        "###Finding correlations of features between the target variable \"Bankrupt\""
      ],
      "metadata": {
        "id": "9NiC8nShtStW"
      }
    },
    {
      "cell_type": "markdown",
      "source": [
        "Let's look at the correlations between the target variable \"Bankrupt?\" and all the other variables. Since the dataset includes too many features, correlation matrix between each pair of variable is not practical. We will sort the correlation coefficients and get the top 5 features that are positively correlated and top 5 features that are negatively correlated"
      ],
      "metadata": {
        "id": "feXaLyButrG9"
      }
    },
    {
      "cell_type": "code",
      "source": [
        "#Correlation of variables with target \"Bankrupt?\"\n",
        "correlations = dataset.select_dtypes(include=[np.number]).corrwith(dataset[\"Bankrupt?\"])\n",
        "\n",
        "#Sort the correlations and select the top 5 features for both positive and negative correlations\n",
        "top_positive_corr = correlations.sort_values(ascending=False).head(5).index.tolist()\n",
        "top_negative_corr = correlations.sort_values().head(5).index.tolist()\n",
        "\n",
        "data_positive_corr = dataset[top_positive_corr + [\"Bankrupt?\"]].copy()\n",
        "data_negative_corr = dataset[top_negative_corr + [\"Bankrupt?\"]].copy()"
      ],
      "metadata": {
        "id": "RAWjrzLOjzDP"
      },
      "execution_count": null,
      "outputs": []
    },
    {
      "cell_type": "code",
      "source": [
        "print(\"Features that are highly positively correlated with company going bankrupt:\")\n",
        "print(top_positive_corr)"
      ],
      "metadata": {
        "colab": {
          "base_uri": "https://localhost:8080/"
        },
        "id": "Ih66cq5ApR19",
        "outputId": "c355b12e-21bf-4bf1-df39-94b90a6140bc"
      },
      "execution_count": null,
      "outputs": [
        {
          "output_type": "stream",
          "name": "stdout",
          "text": [
            "Features that are highly positively correlated with company going bankrupt:\n",
            " Debt ratio %                           0.250161\n",
            " Current Liability to Assets            0.194494\n",
            " Borrowing dependency                   0.176543\n",
            " Current Liability to Current Assets    0.171306\n",
            " Liability to Equity                    0.166812\n",
            "dtype: float64\n"
          ]
        }
      ]
    },
    {
      "cell_type": "code",
      "source": [
        "print(\"Features that are highly negatively correlated with company going bankrupt:\")\n",
        "print(top_negative_corr)"
      ],
      "metadata": {
        "colab": {
          "base_uri": "https://localhost:8080/"
        },
        "id": "SEg0VGDrp4vn",
        "outputId": "e2fa6547-71b9-469a-f491-d4d8fb7ab1bc"
      },
      "execution_count": null,
      "outputs": [
        {
          "output_type": "stream",
          "name": "stdout",
          "text": [
            "Features that are highly negatively correlated with company going bankrupt:\n",
            " ROA(C) before interest and depreciation before interest   -0.260807\n",
            " ROA(B) before interest and depreciation after tax         -0.273051\n",
            " ROA(A) before interest and % after tax                    -0.282941\n",
            " Net Income to Total Assets                                -0.315457\n",
            " Net Income Flag                                                 NaN\n",
            "dtype: float64\n"
          ]
        }
      ]
    },
    {
      "cell_type": "code",
      "source": [
        "def corrbargraph(x_value, y_value, dataset):\n",
        "    plt.figure(figsize=(15,8))\n",
        "    blue = \"skyblue\"\n",
        "\n",
        "    for i in range(2,6):\n",
        "        plt.subplot(2,3,i)\n",
        "        sns.barplot(x=x_value, y=y_value[i-1], data=dataset, color=blue)\n",
        "\n",
        "    plt.tight_layout(pad=0.5)"
      ],
      "metadata": {
        "id": "71jaZsunlrtu"
      },
      "execution_count": null,
      "outputs": []
    },
    {
      "cell_type": "code",
      "source": [
        "x = data_positive_corr.columns.tolist()[-1]\n",
        "y = data_positive_corr.columns.tolist()[:-1]\n",
        "\n",
        "corrbargraph(x, y, dataset)"
      ],
      "metadata": {
        "colab": {
          "base_uri": "https://localhost:8080/",
          "height": 790
        },
        "id": "YJbX3abLoT0j",
        "outputId": "5ad2ca30-7cc1-4be2-dfc0-ab40f16dc840"
      },
      "execution_count": null,
      "outputs": [
        {
          "output_type": "display_data",
          "data": {
            "text/plain": [
              "<Figure size 1500x800 with 4 Axes>"
            ],
            "image/png": "[encoded data removed]"
          },
          "metadata": {}
        }
      ]
    },
    {
      "cell_type": "markdown",
      "source": [
        "This plot suggests that companies that are bankrupt have high debt ratio, liability assets and high ratio of liability to current assets"
      ],
      "metadata": {
        "id": "Ii089FMSsZYV"
      }
    },
    {
      "cell_type": "code",
      "source": [
        "x = data_negative_corr.columns.tolist()[-1]\n",
        "y = data_negative_corr.columns.tolist()[:-1]\n",
        "\n",
        "corrbargraph(x, y, dataset)"
      ],
      "metadata": {
        "colab": {
          "base_uri": "https://localhost:8080/",
          "height": 843
        },
        "id": "UNBXyU4rpH0u",
        "outputId": "356f9328-8400-4dbf-a6d5-b975940e3a4c"
      },
      "execution_count": null,
      "outputs": [
        {
          "output_type": "display_data",
          "data": {
            "text/plain": [
              "<Figure size 1500x800 with 4 Axes>"
            ],
            "image/png": "[encoded data removed]"
          },
          "metadata": {}
        }
      ]
    },
    {
      "cell_type": "markdown",
      "source": [
        "This plot suggests that companies that have high ROA are unlikely to go bankrupt. Note: ROA stands for return on assets. It is a financial ratio which indicates how profitable a company is in relation to its total assets.\n"
      ],
      "metadata": {
        "id": "HzYPWl1_snwY"
      }
    },
    {
      "cell_type": "markdown",
      "source": [
        "###Tabular Description of some selected features"
      ],
      "metadata": {
        "id": "GFwHXKx-tafG"
      }
    },
    {
      "cell_type": "code",
      "source": [
        " features_describe = [\" Debt ratio %\",\" Current Liability to Assets\",\n",
        " \" Borrowing dependency\",\n",
        " \" Current Liability to Current Assets\",\n",
        " \" Liability to Equity\"]"
      ],
      "metadata": {
        "id": "UAIl821-qHYh"
      },
      "execution_count": null,
      "outputs": []
    },
    {
      "cell_type": "code",
      "source": [
        "dataset[features_describe].describe()"
      ],
      "metadata": {
        "colab": {
          "base_uri": "https://localhost:8080/",
          "height": 300
        },
        "id": "pp7lNaXjdnxp",
        "outputId": "bbe4ac59-aa9a-400e-e2e7-b7752eb4ab8f"
      },
      "execution_count": null,
      "outputs": [
        {
          "output_type": "execute_result",
          "data": {
            "text/plain": [
              "        Debt ratio %   Current Liability to Assets   Borrowing dependency  \\\n",
              "count    6819.000000                   6819.000000            6819.000000   \n",
              "mean        0.113177                      0.090673               0.374654   \n",
              "std         0.053920                      0.050290               0.016286   \n",
              "min         0.000000                      0.000000               0.000000   \n",
              "25%         0.072891                      0.053301               0.370168   \n",
              "50%         0.111407                      0.082705               0.372624   \n",
              "75%         0.148804                      0.119523               0.376271   \n",
              "max         1.000000                      1.000000               1.000000   \n",
              "\n",
              "        Current Liability to Current Assets   Liability to Equity  \n",
              "count                           6819.000000           6819.000000  \n",
              "mean                               0.031506              0.280365  \n",
              "std                                0.030845              0.014463  \n",
              "min                                0.000000              0.000000  \n",
              "25%                                0.018034              0.276944  \n",
              "50%                                0.027597              0.278778  \n",
              "75%                                0.038375              0.281449  \n",
              "max                                1.000000              1.000000  "
            ],
            "text/html": [
              "\n",
              "  <div id=\"df-0cdddceb-62a9-4635-968c-ca77fdaab9ec\" class=\"colab-df-container\">\n",
              "    <div>\n",
              "<style scoped>\n",
              "    .dataframe tbody tr th:only-of-type {\n",
              "        vertical-align: middle;\n",
              "    }\n",
              "\n",
              "    .dataframe tbody tr th {\n",
              "        vertical-align: top;\n",
              "    }\n",
              "\n",
              "    .dataframe thead th {\n",
              "        text-align: right;\n",
              "    }\n",
              "</style>\n",
              "<table border=\"1\" class=\"dataframe\">\n",
              "  <thead>\n",
              "    <tr style=\"text-align: right;\">\n",
              "      <th></th>\n",
              "      <th>Debt ratio %</th>\n",
              "      <th>Current Liability to Assets</th>\n",
              "      <th>Borrowing dependency</th>\n",
              "      <th>Current Liability to Current Assets</th>\n",
              "      <th>Liability to Equity</th>\n",
              "    </tr>\n",
              "  </thead>\n",
              "  <tbody>\n",
              "    <tr>\n",
              "      <th>count</th>\n",
              "      <td>6819.000000</td>\n",
              "      <td>6819.000000</td>\n",
              "      <td>6819.000000</td>\n",
              "      <td>6819.000000</td>\n",
              "      <td>6819.000000</td>\n",
              "    </tr>\n",
              "    <tr>\n",
              "      <th>mean</th>\n",
              "      <td>0.113177</td>\n",
              "      <td>0.090673</td>\n",
              "      <td>0.374654</td>\n",
              "      <td>0.031506</td>\n",
              "      <td>0.280365</td>\n",
              "    </tr>\n",
              "    <tr>\n",
              "      <th>std</th>\n",
              "      <td>0.053920</td>\n",
              "      <td>0.050290</td>\n",
              "      <td>0.016286</td>\n",
              "      <td>0.030845</td>\n",
              "      <td>0.014463</td>\n",
              "    </tr>\n",
              "    <tr>\n",
              "      <th>min</th>\n",
              "      <td>0.000000</td>\n",
              "      <td>0.000000</td>\n",
              "      <td>0.000000</td>\n",
              "      <td>0.000000</td>\n",
              "      <td>0.000000</td>\n",
              "    </tr>\n",
              "    <tr>\n",
              "      <th>25%</th>\n",
              "      <td>0.072891</td>\n",
              "      <td>0.053301</td>\n",
              "      <td>0.370168</td>\n",
              "      <td>0.018034</td>\n",
              "      <td>0.276944</td>\n",
              "    </tr>\n",
              "    <tr>\n",
              "      <th>50%</th>\n",
              "      <td>0.111407</td>\n",
              "      <td>0.082705</td>\n",
              "      <td>0.372624</td>\n",
              "      <td>0.027597</td>\n",
              "      <td>0.278778</td>\n",
              "    </tr>\n",
              "    <tr>\n",
              "      <th>75%</th>\n",
              "      <td>0.148804</td>\n",
              "      <td>0.119523</td>\n",
              "      <td>0.376271</td>\n",
              "      <td>0.038375</td>\n",
              "      <td>0.281449</td>\n",
              "    </tr>\n",
              "    <tr>\n",
              "      <th>max</th>\n",
              "      <td>1.000000</td>\n",
              "      <td>1.000000</td>\n",
              "      <td>1.000000</td>\n",
              "      <td>1.000000</td>\n",
              "      <td>1.000000</td>\n",
              "    </tr>\n",
              "  </tbody>\n",
              "</table>\n",
              "</div>\n",
              "    <div class=\"colab-df-buttons\">\n",
              "\n",
              "  <div class=\"colab-df-container\">\n",
              "    <button class=\"colab-df-convert\" onclick=\"convertToInteractive('df-0cdddceb-62a9-4635-968c-ca77fdaab9ec')\"\n",
              "            title=\"Convert this dataframe to an interactive table.\"\n",
              "            style=\"display:none;\">\n",
              "\n",
              "  <svg xmlns=\"http://www.w3.org/2000/svg\" height=\"24px\" viewBox=\"0 -960 960 960\">\n",
              "    <path d=\"M120-120v-720h720v720H120Zm60-500h600v-160H180v160Zm220 220h160v-160H400v160Zm0 220h160v-160H400v160ZM180-400h160v-160H180v160Zm440 0h160v-160H620v160ZM180-180h160v-160H180v160Zm440 0h160v-160H620v160Z\"/>\n",
              "  </svg>\n",
              "    </button>\n",
              "\n",
              "  <style>\n",
              "    .colab-df-container {\n",
              "      display:flex;\n",
              "      gap: 12px;\n",
              "    }\n",
              "\n",
              "    .colab-df-convert {\n",
              "      background-color: #E8F0FE;\n",
              "      border: none;\n",
              "      border-radius: 50%;\n",
              "      cursor: pointer;\n",
              "      display: none;\n",
              "      fill: #1967D2;\n",
              "      height: 32px;\n",
              "      padding: 0 0 0 0;\n",
              "      width: 32px;\n",
              "    }\n",
              "\n",
              "    .colab-df-convert:hover {\n",
              "      background-color: #E2EBFA;\n",
              "      box-shadow: 0px 1px 2px rgba(60, 64, 67, 0.3), 0px 1px 3px 1px rgba(60, 64, 67, 0.15);\n",
              "      fill: #174EA6;\n",
              "    }\n",
              "\n",
              "    .colab-df-buttons div {\n",
              "      margin-bottom: 4px;\n",
              "    }\n",
              "\n",
              "    [theme=dark] .colab-df-convert {\n",
              "      background-color: #3B4455;\n",
              "      fill: #D2E3FC;\n",
              "    }\n",
              "\n",
              "    [theme=dark] .colab-df-convert:hover {\n",
              "      background-color: #434B5C;\n",
              "      box-shadow: 0px 1px 3px 1px rgba(0, 0, 0, 0.15);\n",
              "      filter: drop-shadow(0px 1px 2px rgba(0, 0, 0, 0.3));\n",
              "      fill: #FFFFFF;\n",
              "    }\n",
              "  </style>\n",
              "\n",
              "    <script>\n",
              "      const buttonEl =\n",
              "        document.querySelector('#df-0cdddceb-62a9-4635-968c-ca77fdaab9ec button.colab-df-convert');\n",
              "      buttonEl.style.display =\n",
              "        google.colab.kernel.accessAllowed ? 'block' : 'none';\n",
              "\n",
              "      async function convertToInteractive(key) {\n",
              "        const element = document.querySelector('#df-0cdddceb-62a9-4635-968c-ca77fdaab9ec');\n",
              "        const dataTable =\n",
              "          await google.colab.kernel.invokeFunction('convertToInteractive',\n",
              "                                                    [key], {});\n",
              "        if (!dataTable) return;\n",
              "\n",
              "        const docLinkHtml = 'Like what you see? Visit the ' +\n",
              "          '<a target=\"_blank\" href=https://colab.research.google.com/notebooks/data_table.ipynb>data table notebook</a>'\n",
              "          + ' to learn more about interactive tables.';\n",
              "        element.innerHTML = '';\n",
              "        dataTable['output_type'] = 'display_data';\n",
              "        await google.colab.output.renderOutput(dataTable, element);\n",
              "        const docLink = document.createElement('div');\n",
              "        docLink.innerHTML = docLinkHtml;\n",
              "        element.appendChild(docLink);\n",
              "      }\n",
              "    </script>\n",
              "  </div>\n",
              "\n",
              "\n",
              "<div id=\"df-998dd76d-0389-4aa9-9072-45bec9946668\">\n",
              "  <button class=\"colab-df-quickchart\" onclick=\"quickchart('df-998dd76d-0389-4aa9-9072-45bec9946668')\"\n",
              "            title=\"Suggest charts\"\n",
              "            style=\"display:none;\">\n",
              "\n",
              "<svg xmlns=\"http://www.w3.org/2000/svg\" height=\"24px\"viewBox=\"0 0 24 24\"\n",
              "     width=\"24px\">\n",
              "    <g>\n",
              "        <path d=\"M19 3H5c-1.1 0-2 .9-2 2v14c0 1.1.9 2 2 2h14c1.1 0 2-.9 2-2V5c0-1.1-.9-2-2-2zM9 17H7v-7h2v7zm4 0h-2V7h2v10zm4 0h-2v-4h2v4z\"/>\n",
              "    </g>\n",
              "</svg>\n",
              "  </button>\n",
              "\n",
              "<style>\n",
              "  .colab-df-quickchart {\n",
              "      --bg-color: #E8F0FE;\n",
              "      --fill-color: #1967D2;\n",
              "      --hover-bg-color: #E2EBFA;\n",
              "      --hover-fill-color: #174EA6;\n",
              "      --disabled-fill-color: #AAA;\n",
              "      --disabled-bg-color: #DDD;\n",
              "  }\n",
              "\n",
              "  [theme=dark] .colab-df-quickchart {\n",
              "      --bg-color: #3B4455;\n",
              "      --fill-color: #D2E3FC;\n",
              "      --hover-bg-color: #434B5C;\n",
              "      --hover-fill-color: #FFFFFF;\n",
              "      --disabled-bg-color: #3B4455;\n",
              "      --disabled-fill-color: #666;\n",
              "  }\n",
              "\n",
              "  .colab-df-quickchart {\n",
              "    background-color: var(--bg-color);\n",
              "    border: none;\n",
              "    border-radius: 50%;\n",
              "    cursor: pointer;\n",
              "    display: none;\n",
              "    fill: var(--fill-color);\n",
              "    height: 32px;\n",
              "    padding: 0;\n",
              "    width: 32px;\n",
              "  }\n",
              "\n",
              "  .colab-df-quickchart:hover {\n",
              "    background-color: var(--hover-bg-color);\n",
              "    box-shadow: 0 1px 2px rgba(60, 64, 67, 0.3), 0 1px 3px 1px rgba(60, 64, 67, 0.15);\n",
              "    fill: var(--button-hover-fill-color);\n",
              "  }\n",
              "\n",
              "  .colab-df-quickchart-complete:disabled,\n",
              "  .colab-df-quickchart-complete:disabled:hover {\n",
              "    background-color: var(--disabled-bg-color);\n",
              "    fill: var(--disabled-fill-color);\n",
              "    box-shadow: none;\n",
              "  }\n",
              "\n",
              "  .colab-df-spinner {\n",
              "    border: 2px solid var(--fill-color);\n",
              "    border-color: transparent;\n",
              "    border-bottom-color: var(--fill-color);\n",
              "    animation:\n",
              "      spin 1s steps(1) infinite;\n",
              "  }\n",
              "\n",
              "  @keyframes spin {\n",
              "    0% {\n",
              "      border-color: transparent;\n",
              "      border-bottom-color: var(--fill-color);\n",
              "      border-left-color: var(--fill-color);\n",
              "    }\n",
              "    20% {\n",
              "      border-color: transparent;\n",
              "      border-left-color: var(--fill-color);\n",
              "      border-top-color: var(--fill-color);\n",
              "    }\n",
              "    30% {\n",
              "      border-color: transparent;\n",
              "      border-left-color: var(--fill-color);\n",
              "      border-top-color: var(--fill-color);\n",
              "      border-right-color: var(--fill-color);\n",
              "    }\n",
              "    40% {\n",
              "      border-color: transparent;\n",
              "      border-right-color: var(--fill-color);\n",
              "      border-top-color: var(--fill-color);\n",
              "    }\n",
              "    60% {\n",
              "      border-color: transparent;\n",
              "      border-right-color: var(--fill-color);\n",
              "    }\n",
              "    80% {\n",
              "      border-color: transparent;\n",
              "      border-right-color: var(--fill-color);\n",
              "      border-bottom-color: var(--fill-color);\n",
              "    }\n",
              "    90% {\n",
              "      border-color: transparent;\n",
              "      border-bottom-color: var(--fill-color);\n",
              "    }\n",
              "  }\n",
              "</style>\n",
              "\n",
              "  <script>\n",
              "    async function quickchart(key) {\n",
              "      const quickchartButtonEl =\n",
              "        document.querySelector('#' + key + ' button');\n",
              "      quickchartButtonEl.disabled = true;  // To prevent multiple clicks.\n",
              "      quickchartButtonEl.classList.add('colab-df-spinner');\n",
              "      try {\n",
              "        const charts = await google.colab.kernel.invokeFunction(\n",
              "            'suggestCharts', [key], {});\n",
              "      } catch (error) {\n",
              "        console.error('Error during call to suggestCharts:', error);\n",
              "      }\n",
              "      quickchartButtonEl.classList.remove('colab-df-spinner');\n",
              "      quickchartButtonEl.classList.add('colab-df-quickchart-complete');\n",
              "    }\n",
              "    (() => {\n",
              "      let quickchartButtonEl =\n",
              "        document.querySelector('#df-998dd76d-0389-4aa9-9072-45bec9946668 button');\n",
              "      quickchartButtonEl.style.display =\n",
              "        google.colab.kernel.accessAllowed ? 'block' : 'none';\n",
              "    })();\n",
              "  </script>\n",
              "</div>\n",
              "    </div>\n",
              "  </div>\n"
            ],
            "application/vnd.google.colaboratory.intrinsic+json": {
              "type": "dataframe",
              "summary": "{\n  \"name\": \"dataset[features_describe]\",\n  \"rows\": 8,\n  \"fields\": [\n    {\n      \"column\": \" Debt ratio %\",\n      \"properties\": {\n        \"dtype\": \"number\",\n        \"std\": 2410.8048207160064,\n        \"min\": 0.0,\n        \"max\": 6819.0,\n        \"num_unique_values\": 8,\n        \"samples\": [\n          0.11317708497306007,\n          0.111406717658796,\n          6819.0\n        ],\n        \"semantic_type\": \"\",\n        \"description\": \"\"\n      }\n    },\n    {\n      \"column\": \" Current Liability to Assets\",\n      \"properties\": {\n        \"dtype\": \"number\",\n        \"std\": 2410.8100593751465,\n        \"min\": 0.0,\n        \"max\": 6819.0,\n        \"num_unique_values\": 8,\n        \"samples\": [\n          0.0906727945676238,\n          0.0827047949822228,\n          6819.0\n        ],\n        \"semantic_type\": \"\",\n        \"description\": \"\"\n      }\n    },\n    {\n      \"column\": \" Borrowing dependency\",\n      \"properties\": {\n        \"dtype\": \"number\",\n        \"std\": 2410.75381563939,\n        \"min\": 0.0,\n        \"max\": 6819.0,\n        \"num_unique_values\": 8,\n        \"samples\": [\n          0.37465429459872324,\n          0.372624322553083,\n          6819.0\n        ],\n        \"semantic_type\": \"\",\n        \"description\": \"\"\n      }\n    },\n    {\n      \"column\": \" Current Liability to Current Assets\",\n      \"properties\": {\n        \"dtype\": \"number\",\n        \"std\": 2410.822694909351,\n        \"min\": 0.0,\n        \"max\": 6819.0,\n        \"num_unique_values\": 8,\n        \"samples\": [\n          0.031506365747440736,\n          0.0275971428517009,\n          6819.0\n        ],\n        \"semantic_type\": \"\",\n        \"description\": \"\"\n      }\n    },\n    {\n      \"column\": \" Liability to Equity\",\n      \"properties\": {\n        \"dtype\": \"number\",\n        \"std\": 2410.7729078719585,\n        \"min\": 0.0,\n        \"max\": 6819.0,\n        \"num_unique_values\": 8,\n        \"samples\": [\n          0.2803651538333931,\n          0.278777583629637,\n          6819.0\n        ],\n        \"semantic_type\": \"\",\n        \"description\": \"\"\n      }\n    }\n  ]\n}"
            }
          },
          "metadata": {},
          "execution_count": 38
        }
      ]
    },
    {
      "cell_type": "markdown",
      "source": [
        "###Plotting of distribution of selected features"
      ],
      "metadata": {
        "id": "Vn8bMtdNJCP1"
      }
    },
    {
      "cell_type": "code",
      "source": [
        "dataset[features_describe].plot(kind='density', subplots=True, layout=(1, len(features_describe)), sharex=False, figsize=(15, 5))\n",
        "plt.show()"
      ],
      "metadata": {
        "colab": {
          "base_uri": "https://localhost:8080/",
          "height": 445
        },
        "id": "hgcW3Q08hpQ9",
        "outputId": "ed023220-ab9c-489a-8548-7383d396aa88"
      },
      "execution_count": null,
      "outputs": [
        {
          "output_type": "display_data",
          "data": {
            "text/plain": [
              "<Figure size 1500x500 with 5 Axes>"
            ],
            "image/png": "[encoded data removed]"
          },
          "metadata": {}
        }
      ]
    },
    {
      "cell_type": "markdown",
      "source": [
        "###Boxplot of selected features to see outliers"
      ],
      "metadata": {
        "id": "ZQE8eMK0JG09"
      }
    },
    {
      "cell_type": "code",
      "source": [
        "#Plot boxplots for outliers of selected features\n",
        "fig, axes = plt.subplots(1, len(features_describe), figsize=(15, 5))\n",
        "\n",
        "for i, feature in enumerate(features_describe):\n",
        "    sns.boxplot(y=dataset[feature], ax=axes[i])\n",
        "    axes[i].set_title(f'Boxplot of {feature}')\n",
        "    axes[i].set_ylabel('Value')\n",
        "\n",
        "plt.tight_layout()\n",
        "plt.show()"
      ],
      "metadata": {
        "colab": {
          "base_uri": "https://localhost:8080/",
          "height": 491
        },
        "id": "9_ftj4_ii85_",
        "outputId": "aaba5507-a44b-4a10-84c4-7be9d2862eaf"
      },
      "execution_count": null,
      "outputs": [
        {
          "output_type": "display_data",
          "data": {
            "text/plain": [
              "<Figure size 1500x500 with 5 Axes>"
            ],
            "image/png": "[encoded data removed]"
          },
          "metadata": {}
        }
      ]
    },
    {
      "cell_type": "markdown",
      "source": [
        "###Check class balance between non-bankrupt and bankrupt instances"
      ],
      "metadata": {
        "id": "XPEcySrbJLnT"
      }
    },
    {
      "cell_type": "code",
      "source": [
        "dataset['Bankrupt?'].value_counts(normalize= True).plot(kind= 'bar')\n",
        "plt.xlabel(\"Bankrupt classes\")\n",
        "plt.ylabel(\"Frequancy\")\n",
        "plt.title(\"Class balance\");"
      ],
      "metadata": {
        "colab": {
          "base_uri": "https://localhost:8080/"
        },
        "id": "1tqiwk89wUb3",
        "outputId": "2c6cf3b6-4de3-4403-ce61-9750b1659ee6"
      },
      "execution_count": null,
      "outputs": [
        {
          "output_type": "display_data",
          "data": {
            "text/plain": [
              "<Figure size 640x480 with 1 Axes>"
            ],
            "image/png": "[encoded data removed]"
          },
          "metadata": {}
        }
      ]
    },
    {
      "cell_type": "markdown",
      "source": [
        "This suggest data is imbalanced, lots of instances for no-Bankrupt companies. We might need to use different techniques in training for class imbalance problem.\n",
        "0 represents non-bankrupt classes and 1 represents banktrup classes"
      ],
      "metadata": {
        "id": "xWddQ804wfnM"
      }
    },
    {
      "cell_type": "markdown",
      "source": [
        "Also, we have lots of features. It might be hard to train for computational reasons, also it is vulnerable to overfit. We might to regularization to avoid overfitting. Also we should choose a feature selection algorithm and pick the best features for training"
      ],
      "metadata": {
        "id": "09lQzKiwwsmE"
      }
    },
    {
      "cell_type": "markdown",
      "source": [
        "##Standardization of Data"
      ],
      "metadata": {
        "id": "DLNsWbKpHMp9"
      }
    },
    {
      "cell_type": "markdown",
      "source": [
        "We use standardization (z-score normalization) except on the target variable (Bankrupt column) so that models like Logistic Regression will work better by being robust against outliers."
      ],
      "metadata": {
        "id": "7pOLDm8O4qvJ"
      }
    },
    {
      "cell_type": "code",
      "source": [
        "#Initialize the StandardScaler\n",
        "scaler = StandardScaler()\n",
        "\n",
        "#Select columns to be normalized, excluding the target\n",
        "columns_to_normalize = [col for col in dataset.columns if col != 'Bankrupt?']\n",
        "\n",
        "# Standardize the data, except for the target\n",
        "dataset[columns_to_normalize] = scaler.fit_transform(dataset[columns_to_normalize])\n",
        "\n",
        "print(dataset)"
      ],
      "metadata": {
        "colab": {
          "base_uri": "https://localhost:8080/"
        },
        "id": "x6NzqIpyXozx",
        "outputId": "bf3c9f82-269b-4c14-994c-48b392310885"
      },
      "execution_count": null,
      "outputs": [
        {
          "output_type": "stream",
          "name": "stdout",
          "text": [
            "      Bankrupt?   ROA(C) before interest and depreciation before interest  \\\n",
            "0             1                                          -2.217909          \n",
            "1             1                                          -0.673828          \n",
            "2             1                                          -1.303672          \n",
            "3             1                                          -1.735886          \n",
            "4             1                                          -0.661778          \n",
            "...         ...                                                ...          \n",
            "6814          0                                          -0.189395          \n",
            "6815          0                                          -0.494676          \n",
            "6816          0                                          -0.534845          \n",
            "6817          0                                           0.017875          \n",
            "6818          0                                          -0.199839          \n",
            "\n",
            "       ROA(A) before interest and % after tax  \\\n",
            "0                                   -2.045798   \n",
            "1                                   -0.311068   \n",
            "2                                   -0.908420   \n",
            "3                                   -1.636209   \n",
            "4                                   -0.307745   \n",
            "...                                       ...   \n",
            "6814                                -0.291959   \n",
            "6815                                -0.310237   \n",
            "6816                                -0.379194   \n",
            "6817                                 0.019594   \n",
            "6818                                 0.174956   \n",
            "\n",
            "       ROA(B) before interest and depreciation after tax  \\\n",
            "0                                             -2.400361    \n",
            "1                                             -0.598450    \n",
            "2                                             -1.319910    \n",
            "3                                             -1.556340    \n",
            "4                                             -0.508050    \n",
            "...                                                 ...    \n",
            "6814                                          -0.168181    \n",
            "6815                                          -0.477627    \n",
            "6816                                          -0.534996    \n",
            "6817                                           0.007403    \n",
            "6818                                          -0.065612    \n",
            "\n",
            "       Operating Gross Margin   Realized Sales Gross Margin  \\\n",
            "0                   -0.383334                     -0.382638   \n",
            "1                    0.135068                      0.136307   \n",
            "2                   -0.383759                     -0.388177   \n",
            "3                   -1.441418                     -1.441832   \n",
            "4                   -0.541238                     -0.540708   \n",
            "...                       ...                           ...   \n",
            "6814                -0.206277                     -0.204969   \n",
            "6815                -0.569328                     -0.568828   \n",
            "6816                 0.147411                      0.135029   \n",
            "6817                -0.005811                     -0.004720   \n",
            "6818                 1.149313                      1.151617   \n",
            "\n",
            "       Operating Profit Rate   Pre-tax net Interest Rate  \\\n",
            "0                   0.016456                   -0.023516   \n",
            "1                   0.014671                    0.014799   \n",
            "2                   0.007858                   -0.061111   \n",
            "3                  -0.004257                   -0.017313   \n",
            "4                   0.016758                    0.013703   \n",
            "...                      ...                         ...   \n",
            "6814                0.018215                    0.017036   \n",
            "6815                0.018223                    0.017455   \n",
            "6816                0.017628                    0.016412   \n",
            "6817                0.024494                    0.024099   \n",
            "6818               -0.051874                    0.372776   \n",
            "\n",
            "       After-tax net Interest Rate  \\\n",
            "0                        -0.020165   \n",
            "1                         0.015966   \n",
            "2                        -0.051183   \n",
            "3                        -0.008676   \n",
            "4                         0.016186   \n",
            "...                            ...   \n",
            "6814                      0.018197   \n",
            "6815                      0.017919   \n",
            "6816                      0.017153   \n",
            "6817                      0.023223   \n",
            "6818                      0.346771   \n",
            "\n",
            "       Non-industry income and expenditure/revenue  ...  \\\n",
            "0                                        -0.087479  ...   \n",
            "1                                        -0.005957  ...   \n",
            "2                                        -0.142238  ...   \n",
            "3                                        -0.024491  ...   \n",
            "4                                        -0.013254  ...   \n",
            "...                                            ...  ...   \n",
            "6814                                     -0.010092  ...   \n",
            "6815                                     -0.009248  ...   \n",
            "6816                                     -0.009919  ...   \n",
            "6817                                     -0.011175  ...   \n",
            "6818                                      0.877250  ...   \n",
            "\n",
            "       Net Income to Total Assets   Total assets to GNP price  \\\n",
            "0                       -2.254317                   -0.049491   \n",
            "1                       -0.309033                   -0.049491   \n",
            "2                       -0.820510                   -0.049491   \n",
            "3                       -1.691222                   -0.049491   \n",
            "4                       -0.316008                   -0.049491   \n",
            "...                           ...                         ...   \n",
            "6814                    -0.194231                   -0.049491   \n",
            "6815                    -0.198659                   -0.049491   \n",
            "6816                    -0.247517                   -0.049491   \n",
            "6817                     0.100366                   -0.049491   \n",
            "6818                     0.203219                   -0.049491   \n",
            "\n",
            "       No-credit Interval   Gross Profit to Sales  \\\n",
            "0               -0.084274               -0.383465   \n",
            "1               -0.021388                0.135253   \n",
            "2               -0.005984               -0.383698   \n",
            "3               -0.080226               -1.441526   \n",
            "4               -0.032052               -0.541255   \n",
            "...                   ...                     ...   \n",
            "6814            -0.024011               -0.206217   \n",
            "6815             0.001317               -0.569333   \n",
            "6816             0.019653                0.147305   \n",
            "6817             0.003493               -0.005931   \n",
            "6818             0.225062                1.149377   \n",
            "\n",
            "       Net Income to Stockholder's Equity   Liability to Equity  \\\n",
            "0                               -0.861611              0.680171   \n",
            "1                               -0.029804              0.240685   \n",
            "2                               -0.249820              0.679247   \n",
            "3                               -0.392864              0.093765   \n",
            "4                               -0.029564             -0.128014   \n",
            "...                                   ...                   ...   \n",
            "6814                            -0.002968             -0.052524   \n",
            "6815                            -0.006633             -0.154404   \n",
            "6816                            -0.018166             -0.316446   \n",
            "6817                             0.046934             -0.194852   \n",
            "6818                             0.042453             -0.363091   \n",
            "\n",
            "       Degree of Financial Leverage (DFL)  \\\n",
            "0                               -0.060031   \n",
            "1                               15.129816   \n",
            "2                               -0.062961   \n",
            "3                               -0.053903   \n",
            "4                               -0.178037   \n",
            "...                                   ...   \n",
            "6814                            -0.030437   \n",
            "6815                            -0.033992   \n",
            "6816                            -0.047870   \n",
            "6817                            -0.045898   \n",
            "6818                            -0.047755   \n",
            "\n",
            "       Interest Coverage Ratio (Interest expense to EBIT)   Net Income Flag  \\\n",
            "0                                             -0.098978                 0.0   \n",
            "1                                              0.364559                 0.0   \n",
            "2                                             -0.125015                 0.0   \n",
            "3                                             -0.052562                 0.0   \n",
            "4                                              0.776395                 0.0   \n",
            "...                                                 ...                 ...   \n",
            "6814                                           0.063215                 0.0   \n",
            "6815                                           0.049970                 0.0   \n",
            "6816                                          -0.015101                 0.0   \n",
            "6817                                          -0.004270                 0.0   \n",
            "6818                                          -0.014454                 0.0   \n",
            "\n",
            "       Equity to Liability  \n",
            "0                -0.622067  \n",
            "1                -0.535573  \n",
            "2                -0.621960  \n",
            "3                -0.471826  \n",
            "4                -0.241715  \n",
            "...                    ...  \n",
            "6814             -0.353693  \n",
            "6815             -0.185856  \n",
            "6816              1.001206  \n",
            "6817             -0.071364  \n",
            "6818              3.725729  \n",
            "\n",
            "[6819 rows x 96 columns]\n"
          ]
        }
      ]
    },
    {
      "cell_type": "markdown",
      "source": [
        "After standardization, let's plot the distribution of selected features again"
      ],
      "metadata": {
        "id": "kqrMXUJVWjsK"
      }
    },
    {
      "cell_type": "code",
      "source": [
        "#Plot the distributions of selected features\n",
        "dataset[features_describe].plot(kind='density', subplots=True, layout=(1, len(features_describe)), sharex=False, figsize=(15, 5))\n",
        "plt.show()"
      ],
      "metadata": {
        "colab": {
          "base_uri": "https://localhost:8080/",
          "height": 445
        },
        "id": "SPvuem-xWt0e",
        "outputId": "e77a90c9-06a6-480a-bceb-b88c54cbd4e3"
      },
      "execution_count": null,
      "outputs": [
        {
          "output_type": "display_data",
          "data": {
            "text/plain": [
              "<Figure size 1500x500 with 5 Axes>"
            ],
            "image/png": "[encoded data removed]"
          },
          "metadata": {}
        }
      ]
    },
    {
      "cell_type": "markdown",
      "source": [
        "Mean of features are 0 as expected"
      ],
      "metadata": {
        "id": "x5U-UiKWW4FS"
      }
    },
    {
      "cell_type": "markdown",
      "source": [
        "##Models"
      ],
      "metadata": {
        "id": "N2SWISKTHV6-"
      }
    },
    {
      "cell_type": "markdown",
      "source": [
        "###Logistic Regression"
      ],
      "metadata": {
        "id": "iuNqist_HXmx"
      }
    },
    {
      "cell_type": "markdown",
      "source": [
        "####Selecting Features for Logistic Regression Model"
      ],
      "metadata": {
        "id": "wkeky7SDHa_f"
      }
    },
    {
      "cell_type": "code",
      "source": [
        "#Separate x and target y\n",
        "X = dataset.drop(columns=['Bankrupt?'])\n",
        "y = dataset['Bankrupt?']\n",
        "\n",
        "#Split the data into training and testing sets\n",
        "X_train, X_test, y_train, y_test = train_test_split(X, y, test_size=0.2, random_state=42)"
      ],
      "metadata": {
        "id": "6cvCCFWCcK5f"
      },
      "execution_count": null,
      "outputs": []
    },
    {
      "cell_type": "code",
      "source": [
        "#Initialize the logistic regression model\n",
        "model = LogisticRegression()\n",
        "\n",
        "#Initialize the RFE selector with desired number of features to select\n",
        "num_features_to_select = 12  # You can adjust this number as needed\n",
        "rfe_selector = RFE(estimator=model, n_features_to_select=num_features_to_select, step=1)"
      ],
      "metadata": {
        "id": "OjitTRG_cV9c"
      },
      "execution_count": null,
      "outputs": []
    },
    {
      "cell_type": "code",
      "source": [
        "#Fit the RFE selector to the training data\n",
        "rfe_selector = rfe_selector.fit(X_train, y_train)\n",
        "\n",
        "#Get the selected features\n",
        "selected_features = X_train.columns[rfe_selector.support_]\n",
        "\n",
        "print(\"Selected Features:\")\n",
        "print(selected_features)"
      ],
      "metadata": {
        "colab": {
          "base_uri": "https://localhost:8080/"
        },
        "id": "zXatM4tYcky7",
        "outputId": "b907986e-7db0-4c5b-9c54-b9b0580462cd"
      },
      "execution_count": null,
      "outputs": [
        {
          "output_type": "stream",
          "name": "stdout",
          "text": [
            "Selected Features:\n",
            "Index([' Operating Profit Rate',\n",
            "       ' Non-industry income and expenditure/revenue',\n",
            "       ' Net Value Per Share (B)', ' Net Value Per Share (C)',\n",
            "       ' Persistent EPS in the Last Four Seasons',\n",
            "       ' Revenue Per Share (Yuan ¥)', ' Debt ratio %', ' Net worth/Assets',\n",
            "       ' Operating profit/Paid-in capital', ' Cash/Total Assets',\n",
            "       ' Current Liability to Assets', ' Current Liabilities/Liability'],\n",
            "      dtype='object')\n"
          ]
        }
      ]
    },
    {
      "cell_type": "markdown",
      "source": [
        "Selected Features:\n",
        "Index([' Operating Profit Rate',\n",
        "       ' Non-industry income and expenditure/revenue',\n",
        "       ' Net Value Per Share (B)', ' Net Value Per Share (C)',\n",
        "       ' Persistent EPS in the Last Four Seasons',\n",
        "       ' Revenue Per Share (Yuan ¥)', ' Debt ratio %', ' Net worth/Assets',\n",
        "       ' Operating profit/Paid-in capital', ' Cash/Total Assets',\n",
        "       ' Current Liability to Assets', ' Current Liabilities/Liability'],\n",
        "      dtype='object')"
      ],
      "metadata": {
        "id": "9JdSOokOc1aO"
      }
    },
    {
      "cell_type": "markdown",
      "source": [
        "####Training and Evaluation of Logistic Regression"
      ],
      "metadata": {
        "id": "NH1sxJ1cHhvO"
      }
    },
    {
      "cell_type": "code",
      "source": [
        "X = dataset[selected_features]  #Using only selected features\n",
        "y = dataset['Bankrupt?']\n",
        "\n",
        "#Split dataset\n",
        "X_train, X_test, y_train, y_test = train_test_split(X, y, test_size=0.2, random_state=42, stratify=y)\n",
        "\n",
        "#Stratified K-Folds cross-validator\n",
        "cv = StratifiedKFold(n_splits=5, shuffle=True, random_state=42)\n",
        "\n",
        "#Metrics\n",
        "scoring = {\n",
        "    'accuracy': 'accuracy',\n",
        "    'precision': make_scorer(precision_score, zero_division=0),\n",
        "    'recall': make_scorer(recall_score),\n",
        "    'f1': make_scorer(f1_score)\n",
        "}\n",
        "\n",
        "#Create a pipeline for the logistic regression model\n",
        "pipeline = Pipeline([\n",
        "    ('classifier', LogisticRegression(max_iter=10000))\n",
        "])\n",
        "\n",
        "#Perform cross-validation and evaluate metrics on the training set\n",
        "cv_results = cross_validate(pipeline, X_train, y_train, cv=cv, scoring=scoring)\n",
        "\n",
        "#Output the average scores for each metric\n",
        "print(\"CV Accuracy: \", np.mean(cv_results['test_accuracy']))\n",
        "print(\"CV Precision: \", np.mean(cv_results['test_precision']))\n",
        "print(\"CV Recall: \", np.mean(cv_results['test_recall']))\n",
        "print(\"CV F1 Score: \", np.mean(cv_results['test_f1']))\n",
        "\n",
        "#Fit the model on the entire training set and evaluate on the test set\n",
        "pipeline.fit(X_train, y_train)\n",
        "y_pred = pipeline.predict(X_test)\n",
        "\n",
        "print(\"\\nClassification Report on Test Set:\")\n",
        "print(classification_report(y_test, y_pred))\n",
        "\n",
        "print(\"Confusion Matrix on Test Set:\")\n",
        "print(confusion_matrix(y_test, y_pred))"
      ],
      "metadata": {
        "colab": {
          "base_uri": "https://localhost:8080/"
        },
        "id": "fMY3OVObyxBC",
        "outputId": "6b826728-5d54-4ca2-e069-47c3ed4ece84"
      },
      "execution_count": null,
      "outputs": [
        {
          "output_type": "stream",
          "name": "stdout",
          "text": [
            "CV Accuracy:  0.9668194317140237\n",
            "CV Precision:  0.47023172905525845\n",
            "CV Recall:  0.15349206349206349\n",
            "CV F1 Score:  0.22920566944618753\n",
            "\n",
            "Classification Report on Test Set:\n",
            "              precision    recall  f1-score   support\n",
            "\n",
            "           0       0.97      1.00      0.99      1320\n",
            "           1       0.75      0.20      0.32        44\n",
            "\n",
            "    accuracy                           0.97      1364\n",
            "   macro avg       0.86      0.60      0.65      1364\n",
            "weighted avg       0.97      0.97      0.96      1364\n",
            "\n",
            "Confusion Matrix on Test Set:\n",
            "[[1317    3]\n",
            " [  35    9]]\n"
          ]
        }
      ]
    },
    {
      "cell_type": "markdown",
      "source": [
        "Confusion matrix suggests we have many false negatives. It means we identified a company is bankrupt but it was actually non-bankrupt.\n",
        "\n",
        "False positive rate (saying a company is non-bankrupt but in fact it was bankrupt) is low which is good since our objective is to not miss non-bankrupt companies"
      ],
      "metadata": {
        "id": "0MjP7utWkFZ9"
      }
    },
    {
      "cell_type": "markdown",
      "source": [
        "####Training and Evaluation of Logistic Regression with SMOTE"
      ],
      "metadata": {
        "id": "umNhKYlzHoYM"
      }
    },
    {
      "cell_type": "markdown",
      "source": [
        "Class Imbalance Problem: Synthetic Minority Oversampling Technique (SMOTE) is a statistical technique for increasing the number of samples dataset in a balanced way. It works by generating new instances from existing minority cases."
      ],
      "metadata": {
        "id": "OxglesF5KFrp"
      }
    },
    {
      "cell_type": "code",
      "source": [
        "X = dataset[selected_features]  #Using only selected features\n",
        "y = dataset['Bankrupt?']\n",
        "\n",
        "#Stratified K-Folds cross-validator\n",
        "cv = StratifiedKFold(n_splits=5, shuffle=True, random_state=42)\n",
        "\n",
        "#Metrics\n",
        "scoring = {\n",
        "    'accuracy': 'accuracy',\n",
        "    'precision': make_scorer(precision_score),\n",
        "    'recall': make_scorer(recall_score),\n",
        "    'f1': make_scorer(f1_score)\n",
        "}\n",
        "\n",
        "#Create a pipeline that first applies SMOTE and then fits the logistic regression model\n",
        "pipeline_smote = Pipeline([\n",
        "    ('smote', SMOTE(random_state=42)),\n",
        "    ('classifier', LogisticRegression(max_iter=10000))\n",
        "])\n",
        "\n",
        "#Perform cross-validation and evaluate metrics\n",
        "cv_results = cross_validate(pipeline_smote, X, y, cv=cv, scoring=scoring)\n",
        "\n",
        "#Output the average scores for each metric\n",
        "print(\"CV Accuracy: \", np.mean(cv_results['test_accuracy']))\n",
        "print(\"CV Precision: \", np.mean(cv_results['test_precision']))\n",
        "print(\"CV Recall: \", np.mean(cv_results['test_recall']))\n",
        "print(\"CV F1 Score: \", np.mean(cv_results['test_f1']))"
      ],
      "metadata": {
        "colab": {
          "base_uri": "https://localhost:8080/"
        },
        "id": "M4BJaNUsw8BK",
        "outputId": "569ea564-6fbe-4bea-ff65-97b4550905c9"
      },
      "execution_count": null,
      "outputs": [
        {
          "output_type": "stream",
          "name": "stdout",
          "text": [
            "CV Accuracy:  0.8686006157712309\n",
            "CV Precision:  0.17806313707297722\n",
            "CV Recall:  0.8454545454545455\n",
            "CV F1 Score:  0.29345584590144114\n"
          ]
        }
      ]
    },
    {
      "cell_type": "markdown",
      "source": [
        "Applying SMOTE increased Recall significantly but decreased precision. It is due to decreasing the \"false negatives\" but \"false positive\" rate increased. In overall, SMOTE achieved a better F1 score. It is indeed not useful, since we want don't want to miss out bankrupt companies, we prioritize decreasing the \"false positive\" rates"
      ],
      "metadata": {
        "id": "Uk5DWTmMBMw4"
      }
    },
    {
      "cell_type": "markdown",
      "source": [
        "####ROC Curves of Logistic Regression and Logistic Regression with SMOTE"
      ],
      "metadata": {
        "id": "-X_NRlnMHtQg"
      }
    },
    {
      "cell_type": "code",
      "source": [
        "#Predict probabilities for the positive class with both pipelines\n",
        "y_probabilities_1 = pipeline.predict_proba(X_test)[:, 1]  #For the first pipeline\n",
        "pipeline_smote.fit(X_train, y_train)  #Fit the pipeline on the entire training dataset\n",
        "y_probabilities_2 = pipeline_smote.predict_proba(X_test)[:, 1]  # For the second pipeline\n",
        "\n",
        "#Compute ROC curve and AUC for the first model\n",
        "fpr1, tpr1, thresholds1 = roc_curve(y_test, y_probabilities_1)\n",
        "roc_auc1 = auc(fpr1, tpr1)\n",
        "\n",
        "#Compute ROC curve and AUC for the second model\n",
        "fpr2, tpr2, thresholds2 = roc_curve(y_test, y_probabilities_2)\n",
        "roc_auc2 = auc(fpr2, tpr2)\n",
        "\n",
        "#Plot ROC curves\n",
        "plt.figure(figsize=(8, 6))\n",
        "plt.plot(fpr1, tpr1, color='blue', lw=2, label='Model 1 ROC curve (AUC = %0.2f)' % roc_auc1)\n",
        "plt.plot(fpr2, tpr2, color='green', lw=2, label='Model 2 ROC curve (AUC = %0.2f)' % roc_auc2)\n",
        "plt.plot([0, 1], [0, 1], color='red', lw=2, linestyle='--', label='Random Guess')\n",
        "plt.xlim([0.0, 1.0])\n",
        "plt.ylim([0.0, 1.05])\n",
        "plt.xlabel('False Positive Rate')\n",
        "plt.ylabel('True Positive Rate')\n",
        "plt.title('Receiver Operating Characteristic (ROC) Comparison')\n",
        "plt.legend(loc='lower right')\n",
        "plt.show()"
      ],
      "metadata": {
        "colab": {
          "base_uri": "https://localhost:8080/",
          "height": 564
        },
        "id": "KycvPPWx1bc6",
        "outputId": "87a06d59-22f7-4f50-d900-def620b756ee"
      },
      "execution_count": null,
      "outputs": [
        {
          "output_type": "display_data",
          "data": {
            "text/plain": [
              "<Figure size 800x600 with 1 Axes>"
            ],
            "image/png": "[encoded data removed]"
          },
          "metadata": {}
        }
      ]
    },
    {
      "cell_type": "markdown",
      "source": [
        "ROC Curve suggests that both of the models achieve good ratio of TPR/FPR (True Positive Rate to False Positive Rate). Applying SMOTE did not change the AUC score"
      ],
      "metadata": {
        "id": "5bH5HcgHI1V5"
      }
    },
    {
      "cell_type": "markdown",
      "source": [
        "###Decision Tree Classifier"
      ],
      "metadata": {
        "id": "-W48jvtlHyn5"
      }
    },
    {
      "cell_type": "markdown",
      "source": [
        "####Training and Evaluation of Decision Tree with SMOTE"
      ],
      "metadata": {
        "id": "sOXVpfHJH4Qx"
      }
    },
    {
      "cell_type": "code",
      "source": [
        "X = dataset.drop('Bankrupt?', axis=1)\n",
        "y = dataset['Bankrupt?']\n",
        "\n",
        "#Split dataset\n",
        "X_train, X_test, y_train, y_test = train_test_split(X, y, test_size=0.2, random_state=42, stratify=y)\n",
        "\n",
        "#Stratified K-Folds cross-validator for evaluation\n",
        "cv = StratifiedKFold(n_splits=5, shuffle=True, random_state=42)\n",
        "\n",
        "#Metrics\n",
        "scoring = {\n",
        "    'accuracy': 'accuracy',\n",
        "    'precision': make_scorer(precision_score, zero_division=0),\n",
        "    'recall': make_scorer(recall_score),\n",
        "    'f1': make_scorer(f1_score)\n",
        "}\n",
        "\n",
        "#DecisionTreeClassifier in the pipeline\n",
        "pipeline_decision_tree = Pipeline([\n",
        "    ('smote', SMOTE(random_state=42)),\n",
        "    ('classifier', DecisionTreeClassifier(random_state=42))\n",
        "])\n",
        "\n",
        "#Perform cross-validation and evaluate metrics on the training set\n",
        "cv_results = cross_validate(pipeline_decision_tree, X_train, y_train, cv=cv, scoring=scoring, return_train_score=False)\n",
        "\n",
        "#Output the average scores for each metric\n",
        "print(\"CV Accuracy: \", np.mean(cv_results['test_accuracy']))\n",
        "print(\"CV Precision: \", np.mean(cv_results['test_precision']))\n",
        "print(\"CV Recall: \", np.mean(cv_results['test_recall']))\n",
        "print(\"CV F1 Score: \", np.mean(cv_results['test_f1']))\n",
        "\n",
        "#Fit the model on the entire training set and evaluate on the test set\n",
        "pipeline_decision_tree.fit(X_train, y_train)\n",
        "y_pred = pipeline_decision_tree.predict(X_test)\n",
        "\n",
        "#Output classification report and confusion matrix for the test set\n",
        "print(\"\\nClassification Report on Test Set:\")\n",
        "print(classification_report(y_test, y_pred))\n",
        "\n",
        "print(\"Confusion Matrix on Test Set:\")\n",
        "print(confusion_matrix(y_test, y_pred))"
      ],
      "metadata": {
        "colab": {
          "base_uri": "https://localhost:8080/"
        },
        "id": "jxFNX1at02ir",
        "outputId": "212ec013-41ab-48e6-de06-94212ca6a9aa"
      },
      "execution_count": null,
      "outputs": [
        {
          "output_type": "stream",
          "name": "stdout",
          "text": [
            "CV Accuracy:  0.9259395050412464\n",
            "CV Precision:  0.19894858395222595\n",
            "CV Recall:  0.4317460317460317\n",
            "CV F1 Score:  0.27147616619314735\n",
            "\n",
            "Classification Report on Test Set:\n",
            "              precision    recall  f1-score   support\n",
            "\n",
            "           0       0.98      0.95      0.97      1320\n",
            "           1       0.27      0.50      0.35        44\n",
            "\n",
            "    accuracy                           0.94      1364\n",
            "   macro avg       0.63      0.73      0.66      1364\n",
            "weighted avg       0.96      0.94      0.95      1364\n",
            "\n",
            "Confusion Matrix on Test Set:\n",
            "[[1260   60]\n",
            " [  22   22]]\n"
          ]
        }
      ]
    },
    {
      "cell_type": "markdown",
      "source": [
        "Decision Tree Classifier gives lower \"False Negative\" rates but higher \"False Positive\" rates. It is not prefferable for our case because we want to minimize \"false positive\" rates. We want to correctly identify bankrupt companies."
      ],
      "metadata": {
        "id": "7G_XQQdjDa0n"
      }
    },
    {
      "cell_type": "markdown",
      "source": [
        "###Comparing ROC Curves of Logistic regression and Decision Tree both with SMOTE"
      ],
      "metadata": {
        "id": "Rw1A6R7GH-PR"
      }
    },
    {
      "cell_type": "code",
      "source": [
        "#Predict probabilities for the positive class with both pipelines\n",
        "y_probabilities_1 = pipeline_decision_tree.predict_proba(X_test)[:, 1]  #For the first pipeline\n",
        "pipeline_smote.fit(X_train, y_train)  #Fit the pipeline on the entire training dataset\n",
        "y_probabilities_2 = pipeline_smote.predict_proba(X_test)[:, 1]  # For the second pipeline\n",
        "\n",
        "#Compute ROC curve and AUC for the first model\n",
        "fpr1, tpr1, thresholds1 = roc_curve(y_test, y_probabilities_1)\n",
        "roc_auc1 = auc(fpr1, tpr1)\n",
        "\n",
        "#Compute ROC curve and AUC for the second model\n",
        "fpr2, tpr2, thresholds2 = roc_curve(y_test, y_probabilities_2)\n",
        "roc_auc2 = auc(fpr2, tpr2)\n",
        "\n",
        "#Plot ROC curves\n",
        "plt.figure(figsize=(8, 6))\n",
        "plt.plot(fpr1, tpr1, color='blue', lw=2, label='Decision Tree ROC curve (AUC = %0.2f)' % roc_auc1)\n",
        "plt.plot(fpr2, tpr2, color='green', lw=2, label='Logistic Regression ROC curve (AUC = %0.2f)' % roc_auc2)\n",
        "plt.plot([0, 1], [0, 1], color='red', lw=2, linestyle='--', label='Random Guess')\n",
        "plt.xlim([0.0, 1.0])\n",
        "plt.ylim([0.0, 1.05])\n",
        "plt.xlabel('False Positive Rate')\n",
        "plt.ylabel('True Positive Rate')\n",
        "plt.title('Receiver Operating Characteristic (ROC) Comparison')\n",
        "plt.legend(loc='lower right')\n",
        "plt.show()"
      ],
      "metadata": {
        "colab": {
          "base_uri": "https://localhost:8080/",
          "height": 564
        },
        "id": "_P5r75EQ41IN",
        "outputId": "31612356-3fcc-45a0-989e-099c7b43dc44"
      },
      "execution_count": null,
      "outputs": [
        {
          "output_type": "display_data",
          "data": {
            "text/plain": [
              "<Figure size 800x600 with 1 Axes>"
            ],
            "image/png": "[encoded data removed]"
          },
          "metadata": {}
        }
      ]
    },
    {
      "cell_type": "markdown",
      "source": [
        "ROC Curves are very different between Logistic Regression and Decision Tree Classifier. Area under ROC curve (AUC) is higher in Logistic Regression which suggests we have a higher TPR/FPR Rate.\n",
        "\n",
        "Moreover, confusion matrix showed that Logistic Regression have lower False Positives which is prefferrable for our task"
      ],
      "metadata": {
        "id": "hCjvxK7yD3vv"
      }
    },
    {
      "cell_type": "markdown",
      "source": [
        "##Conclusion"
      ],
      "metadata": {
        "id": "X2zHhbvgIM6l"
      }
    },
    {
      "cell_type": "markdown",
      "source": [
        "Both models produced have an\taccuracy\tgreater\tthan\t90%. However, it is important to examine precision,  recall,  F1  scores  and  the confusion matrix since the dataset is very imbalanced. Moreover, since our task is to correctly identify bankrupt companies,  it  is  prioritized  to  have low false positive rates and high true positive\trates.\tConsidering\tthese ratios, logistic regression achieved the best results using 12 features. Those features were selected based on RFE technique.\n"
      ],
      "metadata": {
        "id": "GdzXDyllIQZU"
      }
    }
  ]
}